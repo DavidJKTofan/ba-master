{
  "nbformat": 4,
  "nbformat_minor": 0,
  "metadata": {
    "colab": {
      "name": "API-JSON-DF.ipynb",
      "provenance": [],
      "collapsed_sections": []
    },
    "kernelspec": {
      "name": "python3",
      "display_name": "Python 3"
    },
    "accelerator": "GPU"
  },
  "cells": [
    {
      "cell_type": "markdown",
      "metadata": {
        "id": "BoPjdYSxVV3m",
        "colab_type": "text"
      },
      "source": [
        "# Idealista API JSON Files\n",
        "Convert JSON files into one DataFrame to work with"
      ]
    },
    {
      "cell_type": "code",
      "metadata": {
        "id": "W_k-_2LpP3vD",
        "colab_type": "code",
        "colab": {
          "base_uri": "https://localhost:8080/",
          "height": 34
        },
        "outputId": "dfb5afcb-e3c1-44c8-bdb9-850767f982d3"
      },
      "source": [
        "# Load Google Drive\n",
        "from google.colab import drive\n",
        "\n",
        "# Mount Google Drive through authorization\n",
        "drive.mount('/content/drive')"
      ],
      "execution_count": 1,
      "outputs": [
        {
          "output_type": "stream",
          "text": [
            "Drive already mounted at /content/drive; to attempt to forcibly remount, call drive.mount(\"/content/drive\", force_remount=True).\n"
          ],
          "name": "stdout"
        }
      ]
    },
    {
      "cell_type": "code",
      "metadata": {
        "id": "XCN2SuMSQjxB",
        "colab_type": "code",
        "colab": {}
      },
      "source": [
        "# Load all necessary libraries\n",
        "import json, os\n",
        "from pandas import json_normalize\n",
        "import pandas as pd\n",
        "import numpy as np"
      ],
      "execution_count": 2,
      "outputs": []
    },
    {
      "cell_type": "markdown",
      "metadata": {
        "id": "dCEn1RdgKMYO",
        "colab_type": "text"
      },
      "source": [
        "All JSON files downloaded from the API of Idealista."
      ]
    },
    {
      "cell_type": "code",
      "metadata": {
        "id": "cW28TkZ7QkX_",
        "colab_type": "code",
        "colab": {
          "base_uri": "https://localhost:8080/",
          "height": 35
        },
        "outputId": "26b28c7c-01ad-4ef5-c253-07c7f97892fa"
      },
      "source": [
        "### CHANGE THIS PATHNAME TO THE ONE THAT CONTAINS ALL JSON FILES ###\n",
        "path = '/content/drive/My Drive'\n",
        "# Set Working Directory where all JSON files are located\n",
        "os.chdir(path)\n",
        "# View Working Directory\n",
        "os.getcwd()"
      ],
      "execution_count": 3,
      "outputs": [
        {
          "output_type": "execute_result",
          "data": {
            "application/vnd.google.colaboratory.intrinsic": {
              "type": "string"
            },
            "text/plain": [
              "'/content/drive/My Drive'"
            ]
          },
          "metadata": {
            "tags": []
          },
          "execution_count": 3
        }
      ]
    },
    {
      "cell_type": "code",
      "metadata": {
        "id": "QkjFvOwdQp-s",
        "colab_type": "code",
        "colab": {
          "base_uri": "https://localhost:8080/",
          "height": 51
        },
        "outputId": "28a751da-3f30-41d7-dc59-c20fadbb048c"
      },
      "source": [
        "# Empty list to store data\n",
        "appended_data = []\n",
        "\n",
        "# For loop to go through all files in the directory\n",
        "for filename in os.listdir(path):\n",
        "    # Condition to only open JSON files\n",
        "    if filename.endswith('.json'):\n",
        "        # Load all JSON files\n",
        "        with open(os.path.join(path, filename)) as f:\n",
        "            data = json.load(f)\n",
        "    # Create DataFrame from normalized JSON dictionary\n",
        "    df = pd.DataFrame.from_dict(json_normalize(data['elementList']))\n",
        "\n",
        "    # Append the empty list to store the DataFrame data\n",
        "    appended_data.append(df)\n",
        "\n",
        "# Concatinate DataFrames\n",
        "appended_data = pd.concat(appended_data)\n",
        "df = appended_data\n",
        "# Save DataFrame as a CSV\n",
        "#df.to_csv('ALL-JSON-FILES.csv')\n",
        "\n",
        "# Count number of variables (columns)\n",
        "print('Number of variables:', len(df.columns))\n",
        "# Count number of records (rows)\n",
        "print('Number of records:', len(df.index))\n",
        "\n",
        "# See IF a file has a wrong format\n",
        "#print(f)"
      ],
      "execution_count": 4,
      "outputs": [
        {
          "output_type": "stream",
          "text": [
            "Number of variables: 40\n",
            "Number of records: 24850\n"
          ],
          "name": "stdout"
        }
      ]
    },
    {
      "cell_type": "markdown",
      "metadata": {
        "id": "zKlMDsY7UUMF",
        "colab_type": "text"
      },
      "source": [
        "## Overview of the Data"
      ]
    },
    {
      "cell_type": "code",
      "metadata": {
        "id": "Dm_UEpeiRfdm",
        "colab_type": "code",
        "colab": {
          "base_uri": "https://localhost:8080/",
          "height": 360
        },
        "outputId": "c95e15fb-118a-4303-bf85-416af2e52222"
      },
      "source": [
        "# Preview \"dirty\" data\n",
        "df.head()"
      ],
      "execution_count": 5,
      "outputs": [
        {
          "output_type": "execute_result",
          "data": {
            "text/html": [
              "<div>\n",
              "<style scoped>\n",
              "    .dataframe tbody tr th:only-of-type {\n",
              "        vertical-align: middle;\n",
              "    }\n",
              "\n",
              "    .dataframe tbody tr th {\n",
              "        vertical-align: top;\n",
              "    }\n",
              "\n",
              "    .dataframe thead th {\n",
              "        text-align: right;\n",
              "    }\n",
              "</style>\n",
              "<table border=\"1\" class=\"dataframe\">\n",
              "  <thead>\n",
              "    <tr style=\"text-align: right;\">\n",
              "      <th></th>\n",
              "      <th>propertyCode</th>\n",
              "      <th>thumbnail</th>\n",
              "      <th>externalReference</th>\n",
              "      <th>numPhotos</th>\n",
              "      <th>price</th>\n",
              "      <th>propertyType</th>\n",
              "      <th>operation</th>\n",
              "      <th>size</th>\n",
              "      <th>exterior</th>\n",
              "      <th>rooms</th>\n",
              "      <th>bathrooms</th>\n",
              "      <th>address</th>\n",
              "      <th>province</th>\n",
              "      <th>municipality</th>\n",
              "      <th>district</th>\n",
              "      <th>country</th>\n",
              "      <th>latitude</th>\n",
              "      <th>longitude</th>\n",
              "      <th>showAddress</th>\n",
              "      <th>url</th>\n",
              "      <th>distance</th>\n",
              "      <th>hasVideo</th>\n",
              "      <th>status</th>\n",
              "      <th>newDevelopment</th>\n",
              "      <th>newDevelopmentFinished</th>\n",
              "      <th>priceByArea</th>\n",
              "      <th>hasPlan</th>\n",
              "      <th>has3DTour</th>\n",
              "      <th>has360</th>\n",
              "      <th>parkingSpace.hasParkingSpace</th>\n",
              "      <th>parkingSpace.isParkingSpaceIncludedInPrice</th>\n",
              "      <th>detailedType.typology</th>\n",
              "      <th>detailedType.subTypology</th>\n",
              "      <th>suggestedTexts.subtitle</th>\n",
              "      <th>suggestedTexts.title</th>\n",
              "      <th>neighborhood</th>\n",
              "      <th>floor</th>\n",
              "      <th>hasLift</th>\n",
              "      <th>parkingSpace.parkingSpacePrice</th>\n",
              "      <th>topNewDevelopment</th>\n",
              "    </tr>\n",
              "  </thead>\n",
              "  <tbody>\n",
              "    <tr>\n",
              "      <th>0</th>\n",
              "      <td>[86350566]</td>\n",
              "      <td>[https://img3.idealista.com/blur/WEB_LISTING/0...</td>\n",
              "      <td>[97123]</td>\n",
              "      <td>[34]</td>\n",
              "      <td>[612900]</td>\n",
              "      <td>[chalet]</td>\n",
              "      <td>[sale]</td>\n",
              "      <td>[334]</td>\n",
              "      <td>[False]</td>\n",
              "      <td>[4]</td>\n",
              "      <td>[3]</td>\n",
              "      <td>[Calle Gonzalo Jiménez de Quesada, 1]</td>\n",
              "      <td>[Madrid]</td>\n",
              "      <td>[Boadilla del Monte]</td>\n",
              "      <td>[Sector B]</td>\n",
              "      <td>[es]</td>\n",
              "      <td>[40.4136]</td>\n",
              "      <td>[-3.9162]</td>\n",
              "      <td>[True]</td>\n",
              "      <td>[https://www.idealista.com/obra-nueva/86350566/]</td>\n",
              "      <td>[18029]</td>\n",
              "      <td>[False]</td>\n",
              "      <td>[newdevelopment]</td>\n",
              "      <td>[True]</td>\n",
              "      <td>[False]</td>\n",
              "      <td>[1835]</td>\n",
              "      <td>[True]</td>\n",
              "      <td>[False]</td>\n",
              "      <td>[False]</td>\n",
              "      <td>[True]</td>\n",
              "      <td>[True]</td>\n",
              "      <td>[chalet]</td>\n",
              "      <td>[semidetachedHouse]</td>\n",
              "      <td>[Sector B, Boadilla del Monte]</td>\n",
              "      <td>[Chalet pareado en Calle Gonzalo Jiménez de Qu...</td>\n",
              "      <td>NaN</td>\n",
              "      <td>NaN</td>\n",
              "      <td>NaN</td>\n",
              "      <td>NaN</td>\n",
              "      <td>NaN</td>\n",
              "    </tr>\n",
              "    <tr>\n",
              "      <th>1</th>\n",
              "      <td>[88820218]</td>\n",
              "      <td>[https://img3.idealista.com/blur/WEB_LISTING/0...</td>\n",
              "      <td>[POZ23040]</td>\n",
              "      <td>[38]</td>\n",
              "      <td>[1250000]</td>\n",
              "      <td>[chalet]</td>\n",
              "      <td>[sale]</td>\n",
              "      <td>[396]</td>\n",
              "      <td>[False]</td>\n",
              "      <td>[5]</td>\n",
              "      <td>[4]</td>\n",
              "      <td>[barrio Monteclaro]</td>\n",
              "      <td>[Madrid]</td>\n",
              "      <td>[Pozuelo de Alarcón]</td>\n",
              "      <td>[Urbanizaciones]</td>\n",
              "      <td>[es]</td>\n",
              "      <td>[40.4415]</td>\n",
              "      <td>[-3.8361]</td>\n",
              "      <td>[False]</td>\n",
              "      <td>[https://www.idealista.com/inmueble/88820218/]</td>\n",
              "      <td>[11572]</td>\n",
              "      <td>[False]</td>\n",
              "      <td>[good]</td>\n",
              "      <td>[False]</td>\n",
              "      <td>NaN</td>\n",
              "      <td>[3157]</td>\n",
              "      <td>[False]</td>\n",
              "      <td>[False]</td>\n",
              "      <td>[False]</td>\n",
              "      <td>NaN</td>\n",
              "      <td>NaN</td>\n",
              "      <td>[chalet]</td>\n",
              "      <td>NaN</td>\n",
              "      <td>[Monteclaro, Pozuelo de Alarcón]</td>\n",
              "      <td>[Chalet]</td>\n",
              "      <td>[Monteclaro]</td>\n",
              "      <td>NaN</td>\n",
              "      <td>NaN</td>\n",
              "      <td>NaN</td>\n",
              "      <td>NaN</td>\n",
              "    </tr>\n",
              "    <tr>\n",
              "      <th>2</th>\n",
              "      <td>[88536347]</td>\n",
              "      <td>[https://img3.idealista.com/blur/WEB_LISTING/0...</td>\n",
              "      <td>[AS146617]</td>\n",
              "      <td>[26]</td>\n",
              "      <td>[289000]</td>\n",
              "      <td>[flat]</td>\n",
              "      <td>[sale]</td>\n",
              "      <td>[44]</td>\n",
              "      <td>[False]</td>\n",
              "      <td>[1]</td>\n",
              "      <td>[1]</td>\n",
              "      <td>[Calle de Pelayo, 26]</td>\n",
              "      <td>[Madrid]</td>\n",
              "      <td>[Madrid]</td>\n",
              "      <td>[Centro]</td>\n",
              "      <td>[es]</td>\n",
              "      <td>[40.4228]</td>\n",
              "      <td>[-3.6984]</td>\n",
              "      <td>[True]</td>\n",
              "      <td>[https://www.idealista.com/inmueble/88536347/]</td>\n",
              "      <td>[789]</td>\n",
              "      <td>[True]</td>\n",
              "      <td>[good]</td>\n",
              "      <td>[False]</td>\n",
              "      <td>NaN</td>\n",
              "      <td>[6568]</td>\n",
              "      <td>[True]</td>\n",
              "      <td>[True]</td>\n",
              "      <td>[False]</td>\n",
              "      <td>NaN</td>\n",
              "      <td>NaN</td>\n",
              "      <td>[flat]</td>\n",
              "      <td>NaN</td>\n",
              "      <td>[Chueca-Justicia, Madrid]</td>\n",
              "      <td>[Piso en Calle de Pelayo, 26]</td>\n",
              "      <td>[Chueca-Justicia]</td>\n",
              "      <td>[3]</td>\n",
              "      <td>[False]</td>\n",
              "      <td>NaN</td>\n",
              "      <td>NaN</td>\n",
              "    </tr>\n",
              "    <tr>\n",
              "      <th>3</th>\n",
              "      <td>[88744592]</td>\n",
              "      <td>[https://img3.idealista.com/blur/WEB_LISTING/0...</td>\n",
              "      <td>[CL147007]</td>\n",
              "      <td>[57]</td>\n",
              "      <td>[2900000]</td>\n",
              "      <td>[chalet]</td>\n",
              "      <td>[sale]</td>\n",
              "      <td>[800]</td>\n",
              "      <td>[False]</td>\n",
              "      <td>[8]</td>\n",
              "      <td>[7]</td>\n",
              "      <td>[La Moraleja]</td>\n",
              "      <td>[Madrid]</td>\n",
              "      <td>[La Moraleja]</td>\n",
              "      <td>[La Moraleja]</td>\n",
              "      <td>[es]</td>\n",
              "      <td>[40.5121]</td>\n",
              "      <td>[-3.6235]</td>\n",
              "      <td>[False]</td>\n",
              "      <td>[https://www.idealista.com/inmueble/88744592/]</td>\n",
              "      <td>[12572]</td>\n",
              "      <td>[True]</td>\n",
              "      <td>[good]</td>\n",
              "      <td>[False]</td>\n",
              "      <td>NaN</td>\n",
              "      <td>[3625]</td>\n",
              "      <td>[True]</td>\n",
              "      <td>[True]</td>\n",
              "      <td>[True]</td>\n",
              "      <td>[True]</td>\n",
              "      <td>[True]</td>\n",
              "      <td>[chalet]</td>\n",
              "      <td>[independantHouse]</td>\n",
              "      <td>[La Moraleja, La Moraleja]</td>\n",
              "      <td>[Casa independiente]</td>\n",
              "      <td>NaN</td>\n",
              "      <td>NaN</td>\n",
              "      <td>NaN</td>\n",
              "      <td>NaN</td>\n",
              "      <td>NaN</td>\n",
              "    </tr>\n",
              "    <tr>\n",
              "      <th>4</th>\n",
              "      <td>[87535127]</td>\n",
              "      <td>[https://img3.idealista.com/blur/WEB_LISTING/0...</td>\n",
              "      <td>[AS143181]</td>\n",
              "      <td>[26]</td>\n",
              "      <td>[430000]</td>\n",
              "      <td>[flat]</td>\n",
              "      <td>[sale]</td>\n",
              "      <td>[93]</td>\n",
              "      <td>[True]</td>\n",
              "      <td>[1]</td>\n",
              "      <td>[2]</td>\n",
              "      <td>[Paseo del Prado, 14]</td>\n",
              "      <td>[Madrid]</td>\n",
              "      <td>[Madrid]</td>\n",
              "      <td>[Centro]</td>\n",
              "      <td>[es]</td>\n",
              "      <td>[40.4142]</td>\n",
              "      <td>[-3.6944]</td>\n",
              "      <td>[True]</td>\n",
              "      <td>[https://www.idealista.com/inmueble/87535127/]</td>\n",
              "      <td>[795]</td>\n",
              "      <td>[True]</td>\n",
              "      <td>[good]</td>\n",
              "      <td>[False]</td>\n",
              "      <td>NaN</td>\n",
              "      <td>[4624]</td>\n",
              "      <td>[True]</td>\n",
              "      <td>[True]</td>\n",
              "      <td>[False]</td>\n",
              "      <td>NaN</td>\n",
              "      <td>NaN</td>\n",
              "      <td>[flat]</td>\n",
              "      <td>NaN</td>\n",
              "      <td>[Huertas-Cortes, Madrid]</td>\n",
              "      <td>[Piso en Paseo del Prado, 14]</td>\n",
              "      <td>[Huertas-Cortes]</td>\n",
              "      <td>[4]</td>\n",
              "      <td>[True]</td>\n",
              "      <td>NaN</td>\n",
              "      <td>NaN</td>\n",
              "    </tr>\n",
              "  </tbody>\n",
              "</table>\n",
              "</div>"
            ],
            "text/plain": [
              "  propertyCode  ... topNewDevelopment\n",
              "0   [86350566]  ...               NaN\n",
              "1   [88820218]  ...               NaN\n",
              "2   [88536347]  ...               NaN\n",
              "3   [88744592]  ...               NaN\n",
              "4   [87535127]  ...               NaN\n",
              "\n",
              "[5 rows x 40 columns]"
            ]
          },
          "metadata": {
            "tags": []
          },
          "execution_count": 5
        }
      ]
    },
    {
      "cell_type": "code",
      "metadata": {
        "id": "SSnRtfnEUXi6",
        "colab_type": "code",
        "colab": {
          "base_uri": "https://localhost:8080/",
          "height": 204
        },
        "outputId": "a8a2dd07-3e31-45c8-83dc-36a6617259ab"
      },
      "source": [
        "# View all DataFrame column names\n",
        "df.columns"
      ],
      "execution_count": 6,
      "outputs": [
        {
          "output_type": "execute_result",
          "data": {
            "text/plain": [
              "Index(['propertyCode', 'thumbnail', 'externalReference', 'numPhotos', 'price',\n",
              "       'propertyType', 'operation', 'size', 'exterior', 'rooms', 'bathrooms',\n",
              "       'address', 'province', 'municipality', 'district', 'country',\n",
              "       'latitude', 'longitude', 'showAddress', 'url', 'distance', 'hasVideo',\n",
              "       'status', 'newDevelopment', 'newDevelopmentFinished', 'priceByArea',\n",
              "       'hasPlan', 'has3DTour', 'has360', 'parkingSpace.hasParkingSpace',\n",
              "       'parkingSpace.isParkingSpaceIncludedInPrice', 'detailedType.typology',\n",
              "       'detailedType.subTypology', 'suggestedTexts.subtitle',\n",
              "       'suggestedTexts.title', 'neighborhood', 'floor', 'hasLift',\n",
              "       'parkingSpace.parkingSpacePrice', 'topNewDevelopment'],\n",
              "      dtype='object')"
            ]
          },
          "metadata": {
            "tags": []
          },
          "execution_count": 6
        }
      ]
    },
    {
      "cell_type": "code",
      "metadata": {
        "id": "xOt_QIUeUmTo",
        "colab_type": "code",
        "colab": {
          "base_uri": "https://localhost:8080/",
          "height": 714
        },
        "outputId": "47a0650f-785c-46e5-8aad-e5ee3212d6a1"
      },
      "source": [
        "# See Data Types\n",
        "df.dtypes"
      ],
      "execution_count": 7,
      "outputs": [
        {
          "output_type": "execute_result",
          "data": {
            "text/plain": [
              "propertyCode                                  object\n",
              "thumbnail                                     object\n",
              "externalReference                             object\n",
              "numPhotos                                     object\n",
              "price                                         object\n",
              "propertyType                                  object\n",
              "operation                                     object\n",
              "size                                          object\n",
              "exterior                                      object\n",
              "rooms                                         object\n",
              "bathrooms                                     object\n",
              "address                                       object\n",
              "province                                      object\n",
              "municipality                                  object\n",
              "district                                      object\n",
              "country                                       object\n",
              "latitude                                      object\n",
              "longitude                                     object\n",
              "showAddress                                   object\n",
              "url                                           object\n",
              "distance                                      object\n",
              "hasVideo                                      object\n",
              "status                                        object\n",
              "newDevelopment                                object\n",
              "newDevelopmentFinished                        object\n",
              "priceByArea                                   object\n",
              "hasPlan                                       object\n",
              "has3DTour                                     object\n",
              "has360                                        object\n",
              "parkingSpace.hasParkingSpace                  object\n",
              "parkingSpace.isParkingSpaceIncludedInPrice    object\n",
              "detailedType.typology                         object\n",
              "detailedType.subTypology                      object\n",
              "suggestedTexts.subtitle                       object\n",
              "suggestedTexts.title                          object\n",
              "neighborhood                                  object\n",
              "floor                                         object\n",
              "hasLift                                       object\n",
              "parkingSpace.parkingSpacePrice                object\n",
              "topNewDevelopment                             object\n",
              "dtype: object"
            ]
          },
          "metadata": {
            "tags": []
          },
          "execution_count": 7
        }
      ]
    },
    {
      "cell_type": "markdown",
      "metadata": {
        "id": "HOyT-AldUaMY",
        "colab_type": "text"
      },
      "source": [
        "## Cleaning and transformations"
      ]
    },
    {
      "cell_type": "code",
      "metadata": {
        "id": "VOrAooZtUY0n",
        "colab_type": "code",
        "colab": {}
      },
      "source": [
        "# STRINGS\n",
        "for column in df:\n",
        "    # Convert to string\n",
        "    df[column] = df[column].astype(str)\n",
        "    # Remove unnecessary characters\n",
        "    df[column] = df[column].str.lstrip(\"['\")\n",
        "    df[column] = df[column].str.rstrip(\"]'\")\n",
        "\n",
        "# INTEGERS\n",
        "for column in df[['propertyCode', 'numPhotos', 'price', 'priceByArea', 'rooms', 'bathrooms', 'distance', 'size', 'parkingSpace.parkingSpacePrice']]:\n",
        "    # Convert to integers\n",
        "    df[column] = pd.to_numeric(df[column], errors='coerce')\n",
        "    \n",
        "# TRUE/FALSE\n",
        "# Convert to Logical\n",
        "d = {'True': True, 'False': False}\n",
        "for column in df[['hasLift', 'exterior', 'parkingSpace.hasParkingSpace', 'newDevelopment', 'newDevelopmentFinished', 'topNewDevelopment', 'parkingSpace.isParkingSpaceIncludedInPrice']]:\n",
        "  df[column] = df[column].map(d)\n",
        "  # Replace NaNs with False (0)\n",
        "  df[column] = df[column].fillna(0)\n",
        "\n",
        "# Convert True/False to 1/0\n",
        "for column in df[['hasLift', 'exterior', 'parkingSpace.hasParkingSpace', 'newDevelopment', 'newDevelopmentFinished', 'topNewDevelopment', 'parkingSpace.isParkingSpaceIncludedInPrice']]:\n",
        "    # Convert TRUE (1) and FALSE (0) to integers\n",
        "    #df[column] = (df[column] == True).astype(int)\n",
        "    df[column] = np.where(df[column] == True, 1, 0)\n",
        "\n",
        "# Categorical variables (Label Encoding) ?\n",
        "#for column in df[['status']]:\n",
        "    #df['column'] = df['column'].astype('category')\n",
        "\n",
        "# Drop unnecessary columns\n",
        "df.drop(['thumbnail', 'showAddress', 'numPhotos', 'url', 'hasPlan', 'has3DTour', 'has360', 'hasVideo', 'externalReference', 'province', 'operation', 'country', 'detailedType.typology', 'suggestedTexts.subtitle', 'suggestedTexts.title', 'detailedType.subTypology'], axis=1, inplace=True)"
      ],
      "execution_count": 8,
      "outputs": []
    },
    {
      "cell_type": "code",
      "metadata": {
        "id": "D6bviWSvlgrQ",
        "colab_type": "code",
        "colab": {
          "base_uri": "https://localhost:8080/",
          "height": 442
        },
        "outputId": "c70d3de1-8d96-487c-a3fd-bed659e3dad4"
      },
      "source": [
        "# See Data Types\n",
        "df.dtypes"
      ],
      "execution_count": 9,
      "outputs": [
        {
          "output_type": "execute_result",
          "data": {
            "text/plain": [
              "propertyCode                                    int64\n",
              "price                                           int64\n",
              "propertyType                                   object\n",
              "size                                          float64\n",
              "exterior                                        int64\n",
              "rooms                                           int64\n",
              "bathrooms                                       int64\n",
              "address                                        object\n",
              "municipality                                   object\n",
              "district                                       object\n",
              "latitude                                       object\n",
              "longitude                                      object\n",
              "distance                                        int64\n",
              "status                                         object\n",
              "newDevelopment                                  int64\n",
              "newDevelopmentFinished                          int64\n",
              "priceByArea                                     int64\n",
              "parkingSpace.hasParkingSpace                    int64\n",
              "parkingSpace.isParkingSpaceIncludedInPrice      int64\n",
              "neighborhood                                   object\n",
              "floor                                          object\n",
              "hasLift                                         int64\n",
              "parkingSpace.parkingSpacePrice                float64\n",
              "topNewDevelopment                               int64\n",
              "dtype: object"
            ]
          },
          "metadata": {
            "tags": []
          },
          "execution_count": 9
        }
      ]
    },
    {
      "cell_type": "markdown",
      "metadata": {
        "id": "9pWaEbaFUeFu",
        "colab_type": "text"
      },
      "source": [
        "## Clean DataFrame"
      ]
    },
    {
      "cell_type": "code",
      "metadata": {
        "id": "p4Wqhfv7Ufml",
        "colab_type": "code",
        "colab": {
          "base_uri": "https://localhost:8080/",
          "height": 377
        },
        "outputId": "4c8dacfd-c253-4fdd-a117-ba6c65764821"
      },
      "source": [
        "# Preview data\n",
        "df.head()"
      ],
      "execution_count": 10,
      "outputs": [
        {
          "output_type": "execute_result",
          "data": {
            "text/html": [
              "<div>\n",
              "<style scoped>\n",
              "    .dataframe tbody tr th:only-of-type {\n",
              "        vertical-align: middle;\n",
              "    }\n",
              "\n",
              "    .dataframe tbody tr th {\n",
              "        vertical-align: top;\n",
              "    }\n",
              "\n",
              "    .dataframe thead th {\n",
              "        text-align: right;\n",
              "    }\n",
              "</style>\n",
              "<table border=\"1\" class=\"dataframe\">\n",
              "  <thead>\n",
              "    <tr style=\"text-align: right;\">\n",
              "      <th></th>\n",
              "      <th>propertyCode</th>\n",
              "      <th>price</th>\n",
              "      <th>propertyType</th>\n",
              "      <th>size</th>\n",
              "      <th>exterior</th>\n",
              "      <th>rooms</th>\n",
              "      <th>bathrooms</th>\n",
              "      <th>address</th>\n",
              "      <th>municipality</th>\n",
              "      <th>district</th>\n",
              "      <th>latitude</th>\n",
              "      <th>longitude</th>\n",
              "      <th>distance</th>\n",
              "      <th>status</th>\n",
              "      <th>newDevelopment</th>\n",
              "      <th>newDevelopmentFinished</th>\n",
              "      <th>priceByArea</th>\n",
              "      <th>parkingSpace.hasParkingSpace</th>\n",
              "      <th>parkingSpace.isParkingSpaceIncludedInPrice</th>\n",
              "      <th>neighborhood</th>\n",
              "      <th>floor</th>\n",
              "      <th>hasLift</th>\n",
              "      <th>parkingSpace.parkingSpacePrice</th>\n",
              "      <th>topNewDevelopment</th>\n",
              "    </tr>\n",
              "  </thead>\n",
              "  <tbody>\n",
              "    <tr>\n",
              "      <th>0</th>\n",
              "      <td>86350566</td>\n",
              "      <td>612900</td>\n",
              "      <td>chalet</td>\n",
              "      <td>334.0</td>\n",
              "      <td>0</td>\n",
              "      <td>4</td>\n",
              "      <td>3</td>\n",
              "      <td>Calle Gonzalo Jiménez de Quesada, 1</td>\n",
              "      <td>Boadilla del Monte</td>\n",
              "      <td>Sector B</td>\n",
              "      <td>40.4136</td>\n",
              "      <td>-3.9162</td>\n",
              "      <td>18029</td>\n",
              "      <td>newdevelopment</td>\n",
              "      <td>1</td>\n",
              "      <td>0</td>\n",
              "      <td>1835</td>\n",
              "      <td>1</td>\n",
              "      <td>1</td>\n",
              "      <td>nan</td>\n",
              "      <td>nan</td>\n",
              "      <td>0</td>\n",
              "      <td>NaN</td>\n",
              "      <td>0</td>\n",
              "    </tr>\n",
              "    <tr>\n",
              "      <th>1</th>\n",
              "      <td>88820218</td>\n",
              "      <td>1250000</td>\n",
              "      <td>chalet</td>\n",
              "      <td>396.0</td>\n",
              "      <td>0</td>\n",
              "      <td>5</td>\n",
              "      <td>4</td>\n",
              "      <td>barrio Monteclaro</td>\n",
              "      <td>Pozuelo de Alarcón</td>\n",
              "      <td>Urbanizaciones</td>\n",
              "      <td>40.4415</td>\n",
              "      <td>-3.8361</td>\n",
              "      <td>11572</td>\n",
              "      <td>good</td>\n",
              "      <td>0</td>\n",
              "      <td>0</td>\n",
              "      <td>3157</td>\n",
              "      <td>0</td>\n",
              "      <td>0</td>\n",
              "      <td>Monteclaro</td>\n",
              "      <td>nan</td>\n",
              "      <td>0</td>\n",
              "      <td>NaN</td>\n",
              "      <td>0</td>\n",
              "    </tr>\n",
              "    <tr>\n",
              "      <th>2</th>\n",
              "      <td>88536347</td>\n",
              "      <td>289000</td>\n",
              "      <td>flat</td>\n",
              "      <td>44.0</td>\n",
              "      <td>0</td>\n",
              "      <td>1</td>\n",
              "      <td>1</td>\n",
              "      <td>Calle de Pelayo, 26</td>\n",
              "      <td>Madrid</td>\n",
              "      <td>Centro</td>\n",
              "      <td>40.4228</td>\n",
              "      <td>-3.6984</td>\n",
              "      <td>789</td>\n",
              "      <td>good</td>\n",
              "      <td>0</td>\n",
              "      <td>0</td>\n",
              "      <td>6568</td>\n",
              "      <td>0</td>\n",
              "      <td>0</td>\n",
              "      <td>Chueca-Justicia</td>\n",
              "      <td>3</td>\n",
              "      <td>0</td>\n",
              "      <td>NaN</td>\n",
              "      <td>0</td>\n",
              "    </tr>\n",
              "    <tr>\n",
              "      <th>3</th>\n",
              "      <td>88744592</td>\n",
              "      <td>2900000</td>\n",
              "      <td>chalet</td>\n",
              "      <td>800.0</td>\n",
              "      <td>0</td>\n",
              "      <td>8</td>\n",
              "      <td>7</td>\n",
              "      <td>La Moraleja</td>\n",
              "      <td>La Moraleja</td>\n",
              "      <td>La Moraleja</td>\n",
              "      <td>40.5121</td>\n",
              "      <td>-3.6235</td>\n",
              "      <td>12572</td>\n",
              "      <td>good</td>\n",
              "      <td>0</td>\n",
              "      <td>0</td>\n",
              "      <td>3625</td>\n",
              "      <td>1</td>\n",
              "      <td>1</td>\n",
              "      <td>nan</td>\n",
              "      <td>nan</td>\n",
              "      <td>0</td>\n",
              "      <td>NaN</td>\n",
              "      <td>0</td>\n",
              "    </tr>\n",
              "    <tr>\n",
              "      <th>4</th>\n",
              "      <td>87535127</td>\n",
              "      <td>430000</td>\n",
              "      <td>flat</td>\n",
              "      <td>93.0</td>\n",
              "      <td>1</td>\n",
              "      <td>1</td>\n",
              "      <td>2</td>\n",
              "      <td>Paseo del Prado, 14</td>\n",
              "      <td>Madrid</td>\n",
              "      <td>Centro</td>\n",
              "      <td>40.4142</td>\n",
              "      <td>-3.6944</td>\n",
              "      <td>795</td>\n",
              "      <td>good</td>\n",
              "      <td>0</td>\n",
              "      <td>0</td>\n",
              "      <td>4624</td>\n",
              "      <td>0</td>\n",
              "      <td>0</td>\n",
              "      <td>Huertas-Cortes</td>\n",
              "      <td>4</td>\n",
              "      <td>1</td>\n",
              "      <td>NaN</td>\n",
              "      <td>0</td>\n",
              "    </tr>\n",
              "  </tbody>\n",
              "</table>\n",
              "</div>"
            ],
            "text/plain": [
              "   propertyCode    price  ... parkingSpace.parkingSpacePrice  topNewDevelopment\n",
              "0      86350566   612900  ...                            NaN                  0\n",
              "1      88820218  1250000  ...                            NaN                  0\n",
              "2      88536347   289000  ...                            NaN                  0\n",
              "3      88744592  2900000  ...                            NaN                  0\n",
              "4      87535127   430000  ...                            NaN                  0\n",
              "\n",
              "[5 rows x 24 columns]"
            ]
          },
          "metadata": {
            "tags": []
          },
          "execution_count": 10
        }
      ]
    },
    {
      "cell_type": "code",
      "metadata": {
        "id": "2tFByIcVUgXh",
        "colab_type": "code",
        "colab": {
          "base_uri": "https://localhost:8080/",
          "height": 34
        },
        "outputId": "6d032938-6369-4f39-b990-32320834a1e0"
      },
      "source": [
        "# Total amount of unique Property Codes\n",
        "total = len(df.index)\n",
        "uniques = len(df['propertyCode'].unique())\n",
        "\n",
        "print('There are {} unique properties out of {}.'.format(uniques, total))"
      ],
      "execution_count": 11,
      "outputs": [
        {
          "output_type": "stream",
          "text": [
            "There are 10820 unique properties out of 24850.\n"
          ],
          "name": "stdout"
        }
      ]
    },
    {
      "cell_type": "code",
      "metadata": {
        "id": "jTuHLxNKohID",
        "colab_type": "code",
        "colab": {
          "base_uri": "https://localhost:8080/",
          "height": 34
        },
        "outputId": "5f2ab027-ca27-4018-e998-b212c324ac66"
      },
      "source": [
        "# Total number of duplicates\n",
        "df.duplicated(subset = 'propertyCode', keep = 'first').sum()"
      ],
      "execution_count": 12,
      "outputs": [
        {
          "output_type": "execute_result",
          "data": {
            "text/plain": [
              "14030"
            ]
          },
          "metadata": {
            "tags": []
          },
          "execution_count": 12
        }
      ]
    },
    {
      "cell_type": "markdown",
      "metadata": {
        "id": "NTeienHApJN4",
        "colab_type": "text"
      },
      "source": [
        "What is the difference between UNIQUE and DUPLICATES?"
      ]
    },
    {
      "cell_type": "code",
      "metadata": {
        "id": "rnJ4SPI9S_lu",
        "colab_type": "code",
        "colab": {}
      },
      "source": [
        "# Dropping ALL duplicte values\n",
        "df.drop_duplicates(subset ='propertyCode', \n",
        "                     keep = 'first', inplace = True)"
      ],
      "execution_count": 13,
      "outputs": []
    },
    {
      "cell_type": "code",
      "metadata": {
        "id": "jLEPDY11TkZt",
        "colab_type": "code",
        "colab": {
          "base_uri": "https://localhost:8080/",
          "height": 377
        },
        "outputId": "df8a61a5-e98f-4bb4-b0e7-64f9e883d8cc"
      },
      "source": [
        "# Preview unique data\n",
        "df.head()"
      ],
      "execution_count": 14,
      "outputs": [
        {
          "output_type": "execute_result",
          "data": {
            "text/html": [
              "<div>\n",
              "<style scoped>\n",
              "    .dataframe tbody tr th:only-of-type {\n",
              "        vertical-align: middle;\n",
              "    }\n",
              "\n",
              "    .dataframe tbody tr th {\n",
              "        vertical-align: top;\n",
              "    }\n",
              "\n",
              "    .dataframe thead th {\n",
              "        text-align: right;\n",
              "    }\n",
              "</style>\n",
              "<table border=\"1\" class=\"dataframe\">\n",
              "  <thead>\n",
              "    <tr style=\"text-align: right;\">\n",
              "      <th></th>\n",
              "      <th>propertyCode</th>\n",
              "      <th>price</th>\n",
              "      <th>propertyType</th>\n",
              "      <th>size</th>\n",
              "      <th>exterior</th>\n",
              "      <th>rooms</th>\n",
              "      <th>bathrooms</th>\n",
              "      <th>address</th>\n",
              "      <th>municipality</th>\n",
              "      <th>district</th>\n",
              "      <th>latitude</th>\n",
              "      <th>longitude</th>\n",
              "      <th>distance</th>\n",
              "      <th>status</th>\n",
              "      <th>newDevelopment</th>\n",
              "      <th>newDevelopmentFinished</th>\n",
              "      <th>priceByArea</th>\n",
              "      <th>parkingSpace.hasParkingSpace</th>\n",
              "      <th>parkingSpace.isParkingSpaceIncludedInPrice</th>\n",
              "      <th>neighborhood</th>\n",
              "      <th>floor</th>\n",
              "      <th>hasLift</th>\n",
              "      <th>parkingSpace.parkingSpacePrice</th>\n",
              "      <th>topNewDevelopment</th>\n",
              "    </tr>\n",
              "  </thead>\n",
              "  <tbody>\n",
              "    <tr>\n",
              "      <th>0</th>\n",
              "      <td>86350566</td>\n",
              "      <td>612900</td>\n",
              "      <td>chalet</td>\n",
              "      <td>334.0</td>\n",
              "      <td>0</td>\n",
              "      <td>4</td>\n",
              "      <td>3</td>\n",
              "      <td>Calle Gonzalo Jiménez de Quesada, 1</td>\n",
              "      <td>Boadilla del Monte</td>\n",
              "      <td>Sector B</td>\n",
              "      <td>40.4136</td>\n",
              "      <td>-3.9162</td>\n",
              "      <td>18029</td>\n",
              "      <td>newdevelopment</td>\n",
              "      <td>1</td>\n",
              "      <td>0</td>\n",
              "      <td>1835</td>\n",
              "      <td>1</td>\n",
              "      <td>1</td>\n",
              "      <td>nan</td>\n",
              "      <td>nan</td>\n",
              "      <td>0</td>\n",
              "      <td>NaN</td>\n",
              "      <td>0</td>\n",
              "    </tr>\n",
              "    <tr>\n",
              "      <th>1</th>\n",
              "      <td>88820218</td>\n",
              "      <td>1250000</td>\n",
              "      <td>chalet</td>\n",
              "      <td>396.0</td>\n",
              "      <td>0</td>\n",
              "      <td>5</td>\n",
              "      <td>4</td>\n",
              "      <td>barrio Monteclaro</td>\n",
              "      <td>Pozuelo de Alarcón</td>\n",
              "      <td>Urbanizaciones</td>\n",
              "      <td>40.4415</td>\n",
              "      <td>-3.8361</td>\n",
              "      <td>11572</td>\n",
              "      <td>good</td>\n",
              "      <td>0</td>\n",
              "      <td>0</td>\n",
              "      <td>3157</td>\n",
              "      <td>0</td>\n",
              "      <td>0</td>\n",
              "      <td>Monteclaro</td>\n",
              "      <td>nan</td>\n",
              "      <td>0</td>\n",
              "      <td>NaN</td>\n",
              "      <td>0</td>\n",
              "    </tr>\n",
              "    <tr>\n",
              "      <th>2</th>\n",
              "      <td>88536347</td>\n",
              "      <td>289000</td>\n",
              "      <td>flat</td>\n",
              "      <td>44.0</td>\n",
              "      <td>0</td>\n",
              "      <td>1</td>\n",
              "      <td>1</td>\n",
              "      <td>Calle de Pelayo, 26</td>\n",
              "      <td>Madrid</td>\n",
              "      <td>Centro</td>\n",
              "      <td>40.4228</td>\n",
              "      <td>-3.6984</td>\n",
              "      <td>789</td>\n",
              "      <td>good</td>\n",
              "      <td>0</td>\n",
              "      <td>0</td>\n",
              "      <td>6568</td>\n",
              "      <td>0</td>\n",
              "      <td>0</td>\n",
              "      <td>Chueca-Justicia</td>\n",
              "      <td>3</td>\n",
              "      <td>0</td>\n",
              "      <td>NaN</td>\n",
              "      <td>0</td>\n",
              "    </tr>\n",
              "    <tr>\n",
              "      <th>3</th>\n",
              "      <td>88744592</td>\n",
              "      <td>2900000</td>\n",
              "      <td>chalet</td>\n",
              "      <td>800.0</td>\n",
              "      <td>0</td>\n",
              "      <td>8</td>\n",
              "      <td>7</td>\n",
              "      <td>La Moraleja</td>\n",
              "      <td>La Moraleja</td>\n",
              "      <td>La Moraleja</td>\n",
              "      <td>40.5121</td>\n",
              "      <td>-3.6235</td>\n",
              "      <td>12572</td>\n",
              "      <td>good</td>\n",
              "      <td>0</td>\n",
              "      <td>0</td>\n",
              "      <td>3625</td>\n",
              "      <td>1</td>\n",
              "      <td>1</td>\n",
              "      <td>nan</td>\n",
              "      <td>nan</td>\n",
              "      <td>0</td>\n",
              "      <td>NaN</td>\n",
              "      <td>0</td>\n",
              "    </tr>\n",
              "    <tr>\n",
              "      <th>4</th>\n",
              "      <td>87535127</td>\n",
              "      <td>430000</td>\n",
              "      <td>flat</td>\n",
              "      <td>93.0</td>\n",
              "      <td>1</td>\n",
              "      <td>1</td>\n",
              "      <td>2</td>\n",
              "      <td>Paseo del Prado, 14</td>\n",
              "      <td>Madrid</td>\n",
              "      <td>Centro</td>\n",
              "      <td>40.4142</td>\n",
              "      <td>-3.6944</td>\n",
              "      <td>795</td>\n",
              "      <td>good</td>\n",
              "      <td>0</td>\n",
              "      <td>0</td>\n",
              "      <td>4624</td>\n",
              "      <td>0</td>\n",
              "      <td>0</td>\n",
              "      <td>Huertas-Cortes</td>\n",
              "      <td>4</td>\n",
              "      <td>1</td>\n",
              "      <td>NaN</td>\n",
              "      <td>0</td>\n",
              "    </tr>\n",
              "  </tbody>\n",
              "</table>\n",
              "</div>"
            ],
            "text/plain": [
              "   propertyCode    price  ... parkingSpace.parkingSpacePrice  topNewDevelopment\n",
              "0      86350566   612900  ...                            NaN                  0\n",
              "1      88820218  1250000  ...                            NaN                  0\n",
              "2      88536347   289000  ...                            NaN                  0\n",
              "3      88744592  2900000  ...                            NaN                  0\n",
              "4      87535127   430000  ...                            NaN                  0\n",
              "\n",
              "[5 rows x 24 columns]"
            ]
          },
          "metadata": {
            "tags": []
          },
          "execution_count": 14
        }
      ]
    },
    {
      "cell_type": "code",
      "metadata": {
        "id": "ou4e7FeJTmuE",
        "colab_type": "code",
        "colab": {
          "base_uri": "https://localhost:8080/",
          "height": 34
        },
        "outputId": "1e0365bf-b6fe-4026-c861-4a5f44b267f2"
      },
      "source": [
        "# Total amount of unique Property Codes\n",
        "total = len(df.index)\n",
        "\n",
        "print('There are {} total unique records.'.format(total))"
      ],
      "execution_count": 15,
      "outputs": [
        {
          "output_type": "stream",
          "text": [
            "There are 10820 total unique records.\n"
          ],
          "name": "stdout"
        }
      ]
    },
    {
      "cell_type": "code",
      "metadata": {
        "id": "3tjJK7jncsRw",
        "colab_type": "code",
        "colab": {}
      },
      "source": [
        "# Reset DataFrame Index\n",
        "df.reset_index(drop=True, inplace=True)"
      ],
      "execution_count": 16,
      "outputs": []
    },
    {
      "cell_type": "code",
      "metadata": {
        "id": "g8mzm2DT0IH1",
        "colab_type": "code",
        "colab": {}
      },
      "source": [
        "######################################################\n",
        "# Save cleaned DataFrame without Duplicates as a CSV #\n",
        "#df.to_csv('ALL-JSON-FILES.csv')                     #\n",
        "######################################################"
      ],
      "execution_count": 17,
      "outputs": []
    },
    {
      "cell_type": "markdown",
      "metadata": {
        "id": "50G8QVpG2i8S",
        "colab_type": "text"
      },
      "source": [
        "## Analysis"
      ]
    },
    {
      "cell_type": "code",
      "metadata": {
        "id": "ndWwn-bL2gux",
        "colab_type": "code",
        "colab": {
          "base_uri": "https://localhost:8080/",
          "height": 442
        },
        "outputId": "30c62cde-465b-493d-ac8f-6a9145723513"
      },
      "source": [
        "# Value counts of column\n",
        "df['floor'].value_counts()"
      ],
      "execution_count": 18,
      "outputs": [
        {
          "output_type": "execute_result",
          "data": {
            "text/plain": [
              "1      2094\n",
              "2      1775\n",
              "3      1510\n",
              "bj     1498\n",
              "nan    1340\n",
              "4      1107\n",
              "5       556\n",
              "6       285\n",
              "7       179\n",
              "en      146\n",
              "8        85\n",
              "9        61\n",
              "ss       55\n",
              "10       33\n",
              "st       27\n",
              "11       19\n",
              "12       19\n",
              "14       12\n",
              "-1       11\n",
              "13        3\n",
              "15        2\n",
              "17        1\n",
              "16        1\n",
              "-2        1\n",
              "Name: floor, dtype: int64"
            ]
          },
          "metadata": {
            "tags": []
          },
          "execution_count": 18
        }
      ]
    },
    {
      "cell_type": "code",
      "metadata": {
        "id": "qWZQrCJRXZZD",
        "colab_type": "code",
        "colab": {
          "base_uri": "https://localhost:8080/",
          "height": 102
        },
        "outputId": "d3f602a6-1994-435d-c942-fcd96d8c2211"
      },
      "source": [
        "df['status'].value_counts()"
      ],
      "execution_count": 19,
      "outputs": [
        {
          "output_type": "execute_result",
          "data": {
            "text/plain": [
              "good              7972\n",
              "renew             1740\n",
              "nan                826\n",
              "newdevelopment     282\n",
              "Name: status, dtype: int64"
            ]
          },
          "metadata": {
            "tags": []
          },
          "execution_count": 19
        }
      ]
    },
    {
      "cell_type": "code",
      "metadata": {
        "id": "cOWlUeVUix64",
        "colab_type": "code",
        "colab": {
          "base_uri": "https://localhost:8080/",
          "height": 1000
        },
        "outputId": "1a19fcff-70b1-47bb-b8cc-ef0e0c25bcb5"
      },
      "source": [
        "dictionary = df['municipality'].value_counts().to_dict()\n",
        "dictionary"
      ],
      "execution_count": 20,
      "outputs": [
        {
          "output_type": "execute_result",
          "data": {
            "text/plain": [
              "{'Ajalvir': 1,\n",
              " 'Alcalá de Henares': 137,\n",
              " 'Alcobendas': 32,\n",
              " 'Alcorcón': 92,\n",
              " 'Algete': 22,\n",
              " 'Arganda': 39,\n",
              " 'Arroyomolinos': 33,\n",
              " 'Batres': 2,\n",
              " 'Boadilla del Monte': 57,\n",
              " 'Brunete': 13,\n",
              " 'Camarma de Esteruelas': 1,\n",
              " 'Campo Real': 5,\n",
              " 'Casarrubuelos': 5,\n",
              " 'Chinchón': 1,\n",
              " 'Ciempozuelos': 29,\n",
              " 'Ciudalcampo': 15,\n",
              " 'Cobeña': 3,\n",
              " 'Colmenar Viejo': 36,\n",
              " 'Colmenarejo': 3,\n",
              " 'Coslada': 29,\n",
              " 'Cubas de la Sagra': 14,\n",
              " 'Daganzo de Arriba': 9,\n",
              " 'Fuenlabrada': 145,\n",
              " 'Fuente del Fresno': 2,\n",
              " 'Fuente el Saz de Jarama': 8,\n",
              " 'Galapagar': 10,\n",
              " 'Getafe': 122,\n",
              " 'Griñón': 12,\n",
              " 'Hoyo de Manzanares': 7,\n",
              " 'Humanes de Madrid': 44,\n",
              " 'La Moraleja': 108,\n",
              " 'Las Rozas de Madrid': 111,\n",
              " 'Leganés': 191,\n",
              " 'Loeches': 17,\n",
              " 'Madrid': 8355,\n",
              " 'Majadahonda': 56,\n",
              " 'Mejorada del Campo': 32,\n",
              " 'Moraleja de Enmedio': 6,\n",
              " 'Morata de Tajuña': 1,\n",
              " 'Móstoles': 116,\n",
              " 'Navalcarnero': 29,\n",
              " 'Paracuellos de Jarama': 9,\n",
              " 'Parla': 112,\n",
              " 'Pinto': 28,\n",
              " 'Pozuelo de Alarcón': 175,\n",
              " 'Quijorna': 9,\n",
              " 'Rivas-Vaciamadrid': 39,\n",
              " 'San Agustin de Guadalix': 11,\n",
              " 'San Fernando de Henares': 10,\n",
              " 'San Martín de la Vega': 29,\n",
              " 'San Sebastián de los Reyes': 51,\n",
              " 'Santo Domingo': 5,\n",
              " 'Serranillos del Valle': 2,\n",
              " 'Sevilla la Nueva': 6,\n",
              " 'Torrejón de Ardoz': 96,\n",
              " 'Torrejón de Velasco': 3,\n",
              " 'Torrejón de la Calzada': 12,\n",
              " 'Torrelodones': 25,\n",
              " 'Torres de la Alameda': 12,\n",
              " 'Tres Cantos': 12,\n",
              " 'Ugena': 2,\n",
              " 'Valdelagua': 2,\n",
              " 'Valdemorillo': 12,\n",
              " 'Valdemoro': 62,\n",
              " 'Velilla de San Antonio': 29,\n",
              " 'Villalbilla': 15,\n",
              " 'Villanueva de la Cañada': 37,\n",
              " 'Villanueva del Pardillo': 32,\n",
              " 'Villaviciosa de Odón': 33}"
            ]
          },
          "metadata": {
            "tags": []
          },
          "execution_count": 20
        }
      ]
    },
    {
      "cell_type": "code",
      "metadata": {
        "id": "ZsrbBVPWgStB",
        "colab_type": "code",
        "colab": {
          "base_uri": "https://localhost:8080/",
          "height": 1000
        },
        "outputId": "fa67da85-3e48-485f-a55c-34d343c80bd1"
      },
      "source": [
        "dictionary = df['neighborhood'].value_counts().to_dict()\n",
        "dictionary"
      ],
      "execution_count": 21,
      "outputs": [
        {
          "output_type": "execute_result",
          "data": {
            "text/plain": [
              "{'12 de Octubre-Orcasur': 16,\n",
              " 'Abrantes': 93,\n",
              " 'Acacias': 101,\n",
              " 'Adelfas': 33,\n",
              " 'Alameda de Osuna': 8,\n",
              " 'Almagro': 73,\n",
              " 'Almendrales': 66,\n",
              " 'Alto de la Jabonería': 1,\n",
              " 'Aluche': 85,\n",
              " 'Ambroz': 32,\n",
              " 'Amposta': 22,\n",
              " 'Apóstol Santiago': 18,\n",
              " 'Arapiles': 73,\n",
              " 'Aravaca': 41,\n",
              " 'Arcos': 56,\n",
              " 'Argüelles': 84,\n",
              " 'Arroyo del Fresno': 3,\n",
              " 'Atalaya': 6,\n",
              " 'Batallas': 16,\n",
              " 'Bellas Vistas': 123,\n",
              " 'Bernabéu-Hispanoamérica': 51,\n",
              " 'Berruguete': 124,\n",
              " 'Buena Vista': 69,\n",
              " 'Butarque': 33,\n",
              " 'Campamento': 20,\n",
              " 'Campo de Tiro': 1,\n",
              " 'Campo de las Naciones-Corralejos': 4,\n",
              " 'Campodón - Ventorro del Cano': 3,\n",
              " 'Canillas': 58,\n",
              " 'Canillejas': 28,\n",
              " 'Casa de Campo': 28,\n",
              " 'Casco Antiguo': 60,\n",
              " 'Casco Histórico de Barajas': 12,\n",
              " 'Casco Histórico de Vallecas': 42,\n",
              " 'Casco Histórico de Vicálvaro': 21,\n",
              " 'Castellana': 59,\n",
              " 'Castilla': 32,\n",
              " 'Chopera': 121,\n",
              " 'Chueca-Justicia': 137,\n",
              " 'Ciudad Jardín': 35,\n",
              " 'Ciudad Universitaria': 46,\n",
              " 'Colina': 6,\n",
              " 'Comillas': 128,\n",
              " 'Concepción': 47,\n",
              " 'Conde Orgaz-Piovera': 31,\n",
              " 'Costillares': 21,\n",
              " 'Cuatro Caminos': 114,\n",
              " 'Cuatro Vientos': 4,\n",
              " 'Cuzco-Castillejos': 72,\n",
              " 'Delicias': 116,\n",
              " 'Descubridores-Escritores': 2,\n",
              " 'El Burgo': 6,\n",
              " 'El Cantizal': 10,\n",
              " 'El Carrascal': 9,\n",
              " 'El Cañaveral - Los Berrocales': 10,\n",
              " 'El Caño- Maracaibo': 5,\n",
              " 'El Monte': 6,\n",
              " 'El Peñalar - Arroyo de Trofas - Montealegre': 2,\n",
              " 'El Pinar- Punta Galea': 4,\n",
              " 'El Plantío': 28,\n",
              " 'El Viso': 72,\n",
              " 'Ensanche de Vallecas - La Gavia': 46,\n",
              " 'Entrevías': 47,\n",
              " 'Estrella': 19,\n",
              " 'Europolis': 5,\n",
              " 'Flores': 7,\n",
              " 'Fontarrón': 38,\n",
              " 'Fuente del Berro': 66,\n",
              " 'Fuentelarreina': 8,\n",
              " 'Gaztambide': 65,\n",
              " 'Goya': 191,\n",
              " 'Guindalera': 153,\n",
              " 'Hellín': 35,\n",
              " 'Huertas-Cortes': 97,\n",
              " 'Ibiza': 67,\n",
              " 'Imperial': 99,\n",
              " 'Jerónimos': 17,\n",
              " 'La Cañadilla': 1,\n",
              " 'La Chopera': 2,\n",
              " 'La Finca': 18,\n",
              " 'La Fortuna': 21,\n",
              " 'La Paz': 18,\n",
              " 'Las Dehesillas-Vereda de los Estudiantes': 5,\n",
              " 'Las Matas- Peñascales': 17,\n",
              " 'Las Tablas': 19,\n",
              " 'Lavapiés-Embajadores': 377,\n",
              " 'Leganés norte': 3,\n",
              " 'Legazpi': 41,\n",
              " 'Lista': 97,\n",
              " 'Los Cármenes': 38,\n",
              " 'Los Rosales': 68,\n",
              " 'Los Ángeles': 67,\n",
              " 'Lucero': 150,\n",
              " 'Malasaña-Universidad': 263,\n",
              " 'Marazuela- El Torreón': 7,\n",
              " 'Marroquina': 18,\n",
              " 'Media Legua': 25,\n",
              " 'Mirasierra': 15,\n",
              " 'Molino de la Hoz': 1,\n",
              " 'Monte Rozas': 4,\n",
              " 'Montecarmelo': 24,\n",
              " 'Montecillo - Pinar de las Rozas': 10,\n",
              " 'Monteclaro': 6,\n",
              " 'Moscardó': 82,\n",
              " 'Niño Jesús': 17,\n",
              " 'Nueva España': 41,\n",
              " 'Nuevos Ministerios-Ríos Rosas': 80,\n",
              " 'Numancia': 154,\n",
              " 'Opañel': 91,\n",
              " 'Orcasitas': 19,\n",
              " 'Pacífico': 63,\n",
              " 'Palacio': 137,\n",
              " 'Palomas': 13,\n",
              " 'Palomeras Bajas': 70,\n",
              " 'Palomeras sureste': 60,\n",
              " 'Palos de Moguer': 111,\n",
              " 'Parque Empresarial': 4,\n",
              " 'Parque Lisboa - La Paz': 19,\n",
              " 'Parque Mayor': 10,\n",
              " 'Parque Ondarreta - Urtinsa': 8,\n",
              " 'Parque oeste - Fuente Cisneros': 3,\n",
              " 'Pau de Carabanchel': 20,\n",
              " 'Pavones': 12,\n",
              " 'Peñagrande': 46,\n",
              " 'Pilar': 47,\n",
              " 'Pinar del Rey': 64,\n",
              " 'Portazgo': 34,\n",
              " 'Prado Largo': 8,\n",
              " 'Prado de Santo Domingo': 8,\n",
              " 'Prado de Somosaguas': 18,\n",
              " 'Pradolongo': 41,\n",
              " 'Prosperidad': 159,\n",
              " 'Pueblo Nuevo': 159,\n",
              " 'Puerta Bonita': 102,\n",
              " 'Puerta del Ángel': 187,\n",
              " 'Quintana': 84,\n",
              " 'Recoletos': 61,\n",
              " 'Rejas': 30,\n",
              " 'Rosas': 19,\n",
              " 'Salvador': 25,\n",
              " 'San Andrés': 117,\n",
              " 'San Cristóbal': 40,\n",
              " 'San Diego': 195,\n",
              " 'San Fermín': 26,\n",
              " 'San Isidro': 181,\n",
              " 'San Juan Bautista': 10,\n",
              " 'San Nicasio': 28,\n",
              " 'San Pascual': 16,\n",
              " 'Sanchinarro': 38,\n",
              " 'Santa Eugenia': 20,\n",
              " 'Santos': 16,\n",
              " 'Simancas': 93,\n",
              " 'Sol': 100,\n",
              " 'Solagua': 3,\n",
              " 'Somosaguas': 43,\n",
              " 'Timón': 5,\n",
              " 'Trafalgar': 131,\n",
              " 'Tres Olivos - Valverde': 39,\n",
              " 'V Centenario': 4,\n",
              " 'Valdeacederas': 104,\n",
              " 'Valdebernardo - Valderribas': 9,\n",
              " 'Valdemarín': 16,\n",
              " 'Valdepelayo-Montepinos-Arroyo Culebro': 1,\n",
              " 'Valderas - Los Castillos': 7,\n",
              " 'Valdezarza': 46,\n",
              " 'Vallehermoso': 38,\n",
              " 'Ventas': 173,\n",
              " 'Ventilla-Almenara': 23,\n",
              " 'Vinateros': 16,\n",
              " 'Virgen del Cortijo - Manoteras': 9,\n",
              " 'Vista Alegre': 132,\n",
              " 'Vírgenes': 1,\n",
              " 'Yucatán- Las Cornisas': 8,\n",
              " 'Zarzaquemada': 45,\n",
              " 'Zofío': 44,\n",
              " 'Zona Avenida Europa': 14,\n",
              " 'Zona Centro Joven': 6,\n",
              " 'Zona Estación': 26,\n",
              " 'Zona Pueblo': 46,\n",
              " 'Zona Renfe': 10,\n",
              " 'Zona norte': 8,\n",
              " 'nan': 1889,\n",
              " 'Águilas': 36}"
            ]
          },
          "metadata": {
            "tags": []
          },
          "execution_count": 21
        }
      ]
    },
    {
      "cell_type": "code",
      "metadata": {
        "id": "IIX5_D-cwuQN",
        "colab_type": "code",
        "colab": {
          "base_uri": "https://localhost:8080/",
          "height": 68
        },
        "outputId": "f82678c6-4aa5-4ba2-d252-ee1b9d768921"
      },
      "source": [
        "df['parkingSpace.hasParkingSpace'].value_counts()"
      ],
      "execution_count": 22,
      "outputs": [
        {
          "output_type": "execute_result",
          "data": {
            "text/plain": [
              "0    8307\n",
              "1    2513\n",
              "Name: parkingSpace.hasParkingSpace, dtype: int64"
            ]
          },
          "metadata": {
            "tags": []
          },
          "execution_count": 22
        }
      ]
    },
    {
      "cell_type": "code",
      "metadata": {
        "id": "cRzzVsBi6x_A",
        "colab_type": "code",
        "colab": {
          "base_uri": "https://localhost:8080/",
          "height": 68
        },
        "outputId": "ba68a926-f5fb-445b-e950-be4556a68677"
      },
      "source": [
        "df['hasLift'].value_counts()"
      ],
      "execution_count": 23,
      "outputs": [
        {
          "output_type": "execute_result",
          "data": {
            "text/plain": [
              "1    6114\n",
              "0    4706\n",
              "Name: hasLift, dtype: int64"
            ]
          },
          "metadata": {
            "tags": []
          },
          "execution_count": 23
        }
      ]
    },
    {
      "cell_type": "code",
      "metadata": {
        "id": "OHZsCRAc47KN",
        "colab_type": "code",
        "colab": {
          "base_uri": "https://localhost:8080/",
          "height": 68
        },
        "outputId": "616a7f90-c332-4a00-fd75-599f96004828"
      },
      "source": [
        "df['newDevelopment'].value_counts()"
      ],
      "execution_count": 24,
      "outputs": [
        {
          "output_type": "execute_result",
          "data": {
            "text/plain": [
              "0    10538\n",
              "1      282\n",
              "Name: newDevelopment, dtype: int64"
            ]
          },
          "metadata": {
            "tags": []
          },
          "execution_count": 24
        }
      ]
    },
    {
      "cell_type": "code",
      "metadata": {
        "id": "aN0pVEHH3vW1",
        "colab_type": "code",
        "colab": {}
      },
      "source": [
        "# Replace specific values with something else\n",
        "#df['floor'] = df['floor'].replace(['-1', 'ss', 'bj'], 'bajo')\n",
        "#df['floor'] = df['floor'].replace(['1'], 'normal')\n",
        "#..."
      ],
      "execution_count": 25,
      "outputs": []
    },
    {
      "cell_type": "code",
      "metadata": {
        "id": "ZvrLXEZTrLKd",
        "colab_type": "code",
        "colab": {}
      },
      "source": [
        ""
      ],
      "execution_count": 25,
      "outputs": []
    }
  ]
}