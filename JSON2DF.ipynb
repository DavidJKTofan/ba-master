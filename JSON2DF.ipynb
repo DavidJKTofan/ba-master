{
  "nbformat": 4,
  "nbformat_minor": 0,
  "metadata": {
    "colab": {
      "name": "API-JSON-DF.ipynb",
      "provenance": [],
      "collapsed_sections": []
    },
    "kernelspec": {
      "name": "python3",
      "display_name": "Python 3"
    },
    "accelerator": "GPU"
  },
  "cells": [
    {
      "cell_type": "markdown",
      "metadata": {
        "id": "BoPjdYSxVV3m",
        "colab_type": "text"
      },
      "source": [
        "# Idealista API JSON Files\n",
        "Convert JSON files into one DataFrame to work with"
      ]
    },
    {
      "cell_type": "code",
      "metadata": {
        "id": "W_k-_2LpP3vD",
        "colab_type": "code",
        "colab": {
          "base_uri": "https://localhost:8080/",
          "height": 122
        },
        "outputId": "496dea0d-faba-4ff4-daf0-c0260547a37e"
      },
      "source": [
        "# Load Google Drive\n",
        "from google.colab import drive\n",
        "\n",
        "# Mount Google Drive through authorization\n",
        "drive.mount('/content/drive')"
      ],
      "execution_count": 1,
      "outputs": [
        {
          "output_type": "stream",
          "text": [
            "Go to this URL in a browser: https://accounts.google.com/o/oauth2/...\n",
            "\n",
            "Enter your authorization code:\n",
            "··········\n",
            "Mounted at /content/drive\n"
          ],
          "name": "stdout"
        }
      ]
    },
    {
      "cell_type": "code",
      "metadata": {
        "id": "XCN2SuMSQjxB",
        "colab_type": "code",
        "colab": {}
      },
      "source": [
        "# Load all necessary libraries\n",
        "import json, os\n",
        "from pandas import json_normalize\n",
        "import pandas as pd"
      ],
      "execution_count": 2,
      "outputs": []
    },
    {
      "cell_type": "markdown",
      "metadata": {
        "id": "dCEn1RdgKMYO",
        "colab_type": "text"
      },
      "source": [
        "All JSON files located here: https://drive.google.com/drive/folders/1O3q6C6gzfQo-X4ZoDVpPE8-r4l5766gt?usp=sharing"
      ]
    },
    {
      "cell_type": "code",
      "metadata": {
        "id": "cW28TkZ7QkX_",
        "colab_type": "code",
        "colab": {
          "base_uri": "https://localhost:8080/",
          "height": 35
        },
        "outputId": "78c1d144-012e-4260-b1c4-6ccd531cf37c"
      },
      "source": [
        "### CHANGE THIS PATHNAME TO THE ONE THAT CONTAINS ALL JSON FILES ###\n",
        "path = '/content/drive/My Drive'\n",
        "# Set Working Directory where all JSON files are located\n",
        "os.chdir(path)\n",
        "# View Working Directory\n",
        "os.getcwd()"
      ],
      "execution_count": 3,
      "outputs": [
        {
          "output_type": "execute_result",
          "data": {
            "application/vnd.google.colaboratory.intrinsic": {
              "type": "string"
            },
            "text/plain": [
              "'/content/drive/My Drive'"
            ]
          },
          "metadata": {
            "tags": []
          },
          "execution_count": 3
        }
      ]
    },
    {
      "cell_type": "code",
      "metadata": {
        "id": "QkjFvOwdQp-s",
        "colab_type": "code",
        "colab": {
          "base_uri": "https://localhost:8080/",
          "height": 51
        },
        "outputId": "8bb6f41c-99ba-470f-cf61-c2e997af942e"
      },
      "source": [
        "# Empty list to store data\n",
        "appended_data = []\n",
        "\n",
        "# For loop to go through all files in the directory\n",
        "for filename in os.listdir(path):\n",
        "    # Condition to only open JSON files\n",
        "    if filename.endswith('.json'):\n",
        "        # Load all JSON files\n",
        "        with open(os.path.join(path, filename)) as f:\n",
        "            data = json.load(f)\n",
        "    # Create DataFrame from normalized JSON dictionary\n",
        "    df = pd.DataFrame.from_dict(json_normalize(data['elementList']))\n",
        "\n",
        "    # Append the empty list to store the DataFrame data\n",
        "    appended_data.append(df)\n",
        "\n",
        "# Concatinate DataFrames\n",
        "appended_data = pd.concat(appended_data)\n",
        "df = appended_data\n",
        "# Save DataFrame as a CSV\n",
        "#df.to_csv('ALL-JSON-FILES.csv')\n",
        "\n",
        "# Count number of variables (columns)\n",
        "print('Number of variables:', len(df.columns))\n",
        "# Count number of records (rows)\n",
        "print('Number of records:', len(df.index))\n",
        "\n",
        "# See IF a file has a wrong format\n",
        "#print(f)"
      ],
      "execution_count": 4,
      "outputs": [
        {
          "output_type": "stream",
          "text": [
            "Number of variables: 40\n",
            "Number of records: 16500\n"
          ],
          "name": "stdout"
        }
      ]
    },
    {
      "cell_type": "markdown",
      "metadata": {
        "id": "zKlMDsY7UUMF",
        "colab_type": "text"
      },
      "source": [
        "## Overview of the Data"
      ]
    },
    {
      "cell_type": "code",
      "metadata": {
        "id": "Dm_UEpeiRfdm",
        "colab_type": "code",
        "colab": {
          "base_uri": "https://localhost:8080/",
          "height": 360
        },
        "outputId": "5b86eb8b-d70d-4e89-9f9c-29fa5ea03e2f"
      },
      "source": [
        "# Preview \"dirty\" data\n",
        "df.head()"
      ],
      "execution_count": 5,
      "outputs": [
        {
          "output_type": "execute_result",
          "data": {
            "text/html": [
              "<div>\n",
              "<style scoped>\n",
              "    .dataframe tbody tr th:only-of-type {\n",
              "        vertical-align: middle;\n",
              "    }\n",
              "\n",
              "    .dataframe tbody tr th {\n",
              "        vertical-align: top;\n",
              "    }\n",
              "\n",
              "    .dataframe thead th {\n",
              "        text-align: right;\n",
              "    }\n",
              "</style>\n",
              "<table border=\"1\" class=\"dataframe\">\n",
              "  <thead>\n",
              "    <tr style=\"text-align: right;\">\n",
              "      <th></th>\n",
              "      <th>propertyCode</th>\n",
              "      <th>thumbnail</th>\n",
              "      <th>externalReference</th>\n",
              "      <th>numPhotos</th>\n",
              "      <th>price</th>\n",
              "      <th>propertyType</th>\n",
              "      <th>operation</th>\n",
              "      <th>size</th>\n",
              "      <th>exterior</th>\n",
              "      <th>rooms</th>\n",
              "      <th>bathrooms</th>\n",
              "      <th>address</th>\n",
              "      <th>province</th>\n",
              "      <th>municipality</th>\n",
              "      <th>district</th>\n",
              "      <th>country</th>\n",
              "      <th>latitude</th>\n",
              "      <th>longitude</th>\n",
              "      <th>showAddress</th>\n",
              "      <th>url</th>\n",
              "      <th>distance</th>\n",
              "      <th>hasVideo</th>\n",
              "      <th>status</th>\n",
              "      <th>newDevelopment</th>\n",
              "      <th>newDevelopmentFinished</th>\n",
              "      <th>priceByArea</th>\n",
              "      <th>hasPlan</th>\n",
              "      <th>has3DTour</th>\n",
              "      <th>has360</th>\n",
              "      <th>parkingSpace.hasParkingSpace</th>\n",
              "      <th>parkingSpace.isParkingSpaceIncludedInPrice</th>\n",
              "      <th>detailedType.typology</th>\n",
              "      <th>detailedType.subTypology</th>\n",
              "      <th>suggestedTexts.subtitle</th>\n",
              "      <th>suggestedTexts.title</th>\n",
              "      <th>neighborhood</th>\n",
              "      <th>floor</th>\n",
              "      <th>hasLift</th>\n",
              "      <th>parkingSpace.parkingSpacePrice</th>\n",
              "      <th>topNewDevelopment</th>\n",
              "    </tr>\n",
              "  </thead>\n",
              "  <tbody>\n",
              "    <tr>\n",
              "      <th>0</th>\n",
              "      <td>[86350566]</td>\n",
              "      <td>[https://img3.idealista.com/blur/WEB_LISTING/0...</td>\n",
              "      <td>[97123]</td>\n",
              "      <td>[34]</td>\n",
              "      <td>[612900]</td>\n",
              "      <td>[chalet]</td>\n",
              "      <td>[sale]</td>\n",
              "      <td>[334]</td>\n",
              "      <td>[False]</td>\n",
              "      <td>[4]</td>\n",
              "      <td>[3]</td>\n",
              "      <td>[Calle Gonzalo Jiménez de Quesada, 1]</td>\n",
              "      <td>[Madrid]</td>\n",
              "      <td>[Boadilla del Monte]</td>\n",
              "      <td>[Sector B]</td>\n",
              "      <td>[es]</td>\n",
              "      <td>[40.4136]</td>\n",
              "      <td>[-3.9162]</td>\n",
              "      <td>[True]</td>\n",
              "      <td>[https://www.idealista.com/obra-nueva/86350566/]</td>\n",
              "      <td>[18029]</td>\n",
              "      <td>[False]</td>\n",
              "      <td>[newdevelopment]</td>\n",
              "      <td>[True]</td>\n",
              "      <td>[False]</td>\n",
              "      <td>[1835]</td>\n",
              "      <td>[True]</td>\n",
              "      <td>[False]</td>\n",
              "      <td>[False]</td>\n",
              "      <td>[True]</td>\n",
              "      <td>[True]</td>\n",
              "      <td>[chalet]</td>\n",
              "      <td>[semidetachedHouse]</td>\n",
              "      <td>[Sector B, Boadilla del Monte]</td>\n",
              "      <td>[Chalet pareado en Calle Gonzalo Jiménez de Qu...</td>\n",
              "      <td>NaN</td>\n",
              "      <td>NaN</td>\n",
              "      <td>NaN</td>\n",
              "      <td>NaN</td>\n",
              "      <td>NaN</td>\n",
              "    </tr>\n",
              "    <tr>\n",
              "      <th>1</th>\n",
              "      <td>[88820218]</td>\n",
              "      <td>[https://img3.idealista.com/blur/WEB_LISTING/0...</td>\n",
              "      <td>[POZ23040]</td>\n",
              "      <td>[38]</td>\n",
              "      <td>[1250000]</td>\n",
              "      <td>[chalet]</td>\n",
              "      <td>[sale]</td>\n",
              "      <td>[396]</td>\n",
              "      <td>[False]</td>\n",
              "      <td>[5]</td>\n",
              "      <td>[4]</td>\n",
              "      <td>[barrio Monteclaro]</td>\n",
              "      <td>[Madrid]</td>\n",
              "      <td>[Pozuelo de Alarcón]</td>\n",
              "      <td>[Urbanizaciones]</td>\n",
              "      <td>[es]</td>\n",
              "      <td>[40.4415]</td>\n",
              "      <td>[-3.8361]</td>\n",
              "      <td>[False]</td>\n",
              "      <td>[https://www.idealista.com/inmueble/88820218/]</td>\n",
              "      <td>[11572]</td>\n",
              "      <td>[False]</td>\n",
              "      <td>[good]</td>\n",
              "      <td>[False]</td>\n",
              "      <td>NaN</td>\n",
              "      <td>[3157]</td>\n",
              "      <td>[False]</td>\n",
              "      <td>[False]</td>\n",
              "      <td>[False]</td>\n",
              "      <td>NaN</td>\n",
              "      <td>NaN</td>\n",
              "      <td>[chalet]</td>\n",
              "      <td>NaN</td>\n",
              "      <td>[Monteclaro, Pozuelo de Alarcón]</td>\n",
              "      <td>[Chalet]</td>\n",
              "      <td>[Monteclaro]</td>\n",
              "      <td>NaN</td>\n",
              "      <td>NaN</td>\n",
              "      <td>NaN</td>\n",
              "      <td>NaN</td>\n",
              "    </tr>\n",
              "    <tr>\n",
              "      <th>2</th>\n",
              "      <td>[88536347]</td>\n",
              "      <td>[https://img3.idealista.com/blur/WEB_LISTING/0...</td>\n",
              "      <td>[AS146617]</td>\n",
              "      <td>[26]</td>\n",
              "      <td>[289000]</td>\n",
              "      <td>[flat]</td>\n",
              "      <td>[sale]</td>\n",
              "      <td>[44]</td>\n",
              "      <td>[False]</td>\n",
              "      <td>[1]</td>\n",
              "      <td>[1]</td>\n",
              "      <td>[Calle de Pelayo, 26]</td>\n",
              "      <td>[Madrid]</td>\n",
              "      <td>[Madrid]</td>\n",
              "      <td>[Centro]</td>\n",
              "      <td>[es]</td>\n",
              "      <td>[40.4228]</td>\n",
              "      <td>[-3.6984]</td>\n",
              "      <td>[True]</td>\n",
              "      <td>[https://www.idealista.com/inmueble/88536347/]</td>\n",
              "      <td>[789]</td>\n",
              "      <td>[True]</td>\n",
              "      <td>[good]</td>\n",
              "      <td>[False]</td>\n",
              "      <td>NaN</td>\n",
              "      <td>[6568]</td>\n",
              "      <td>[True]</td>\n",
              "      <td>[True]</td>\n",
              "      <td>[False]</td>\n",
              "      <td>NaN</td>\n",
              "      <td>NaN</td>\n",
              "      <td>[flat]</td>\n",
              "      <td>NaN</td>\n",
              "      <td>[Chueca-Justicia, Madrid]</td>\n",
              "      <td>[Piso en Calle de Pelayo, 26]</td>\n",
              "      <td>[Chueca-Justicia]</td>\n",
              "      <td>[3]</td>\n",
              "      <td>[False]</td>\n",
              "      <td>NaN</td>\n",
              "      <td>NaN</td>\n",
              "    </tr>\n",
              "    <tr>\n",
              "      <th>3</th>\n",
              "      <td>[88744592]</td>\n",
              "      <td>[https://img3.idealista.com/blur/WEB_LISTING/0...</td>\n",
              "      <td>[CL147007]</td>\n",
              "      <td>[57]</td>\n",
              "      <td>[2900000]</td>\n",
              "      <td>[chalet]</td>\n",
              "      <td>[sale]</td>\n",
              "      <td>[800]</td>\n",
              "      <td>[False]</td>\n",
              "      <td>[8]</td>\n",
              "      <td>[7]</td>\n",
              "      <td>[La Moraleja]</td>\n",
              "      <td>[Madrid]</td>\n",
              "      <td>[La Moraleja]</td>\n",
              "      <td>[La Moraleja]</td>\n",
              "      <td>[es]</td>\n",
              "      <td>[40.5121]</td>\n",
              "      <td>[-3.6235]</td>\n",
              "      <td>[False]</td>\n",
              "      <td>[https://www.idealista.com/inmueble/88744592/]</td>\n",
              "      <td>[12572]</td>\n",
              "      <td>[True]</td>\n",
              "      <td>[good]</td>\n",
              "      <td>[False]</td>\n",
              "      <td>NaN</td>\n",
              "      <td>[3625]</td>\n",
              "      <td>[True]</td>\n",
              "      <td>[True]</td>\n",
              "      <td>[True]</td>\n",
              "      <td>[True]</td>\n",
              "      <td>[True]</td>\n",
              "      <td>[chalet]</td>\n",
              "      <td>[independantHouse]</td>\n",
              "      <td>[La Moraleja, La Moraleja]</td>\n",
              "      <td>[Casa independiente]</td>\n",
              "      <td>NaN</td>\n",
              "      <td>NaN</td>\n",
              "      <td>NaN</td>\n",
              "      <td>NaN</td>\n",
              "      <td>NaN</td>\n",
              "    </tr>\n",
              "    <tr>\n",
              "      <th>4</th>\n",
              "      <td>[87535127]</td>\n",
              "      <td>[https://img3.idealista.com/blur/WEB_LISTING/0...</td>\n",
              "      <td>[AS143181]</td>\n",
              "      <td>[26]</td>\n",
              "      <td>[430000]</td>\n",
              "      <td>[flat]</td>\n",
              "      <td>[sale]</td>\n",
              "      <td>[93]</td>\n",
              "      <td>[True]</td>\n",
              "      <td>[1]</td>\n",
              "      <td>[2]</td>\n",
              "      <td>[Paseo del Prado, 14]</td>\n",
              "      <td>[Madrid]</td>\n",
              "      <td>[Madrid]</td>\n",
              "      <td>[Centro]</td>\n",
              "      <td>[es]</td>\n",
              "      <td>[40.4142]</td>\n",
              "      <td>[-3.6944]</td>\n",
              "      <td>[True]</td>\n",
              "      <td>[https://www.idealista.com/inmueble/87535127/]</td>\n",
              "      <td>[795]</td>\n",
              "      <td>[True]</td>\n",
              "      <td>[good]</td>\n",
              "      <td>[False]</td>\n",
              "      <td>NaN</td>\n",
              "      <td>[4624]</td>\n",
              "      <td>[True]</td>\n",
              "      <td>[True]</td>\n",
              "      <td>[False]</td>\n",
              "      <td>NaN</td>\n",
              "      <td>NaN</td>\n",
              "      <td>[flat]</td>\n",
              "      <td>NaN</td>\n",
              "      <td>[Huertas-Cortes, Madrid]</td>\n",
              "      <td>[Piso en Paseo del Prado, 14]</td>\n",
              "      <td>[Huertas-Cortes]</td>\n",
              "      <td>[4]</td>\n",
              "      <td>[True]</td>\n",
              "      <td>NaN</td>\n",
              "      <td>NaN</td>\n",
              "    </tr>\n",
              "  </tbody>\n",
              "</table>\n",
              "</div>"
            ],
            "text/plain": [
              "  propertyCode  ... topNewDevelopment\n",
              "0   [86350566]  ...               NaN\n",
              "1   [88820218]  ...               NaN\n",
              "2   [88536347]  ...               NaN\n",
              "3   [88744592]  ...               NaN\n",
              "4   [87535127]  ...               NaN\n",
              "\n",
              "[5 rows x 40 columns]"
            ]
          },
          "metadata": {
            "tags": []
          },
          "execution_count": 5
        }
      ]
    },
    {
      "cell_type": "code",
      "metadata": {
        "id": "SSnRtfnEUXi6",
        "colab_type": "code",
        "colab": {
          "base_uri": "https://localhost:8080/",
          "height": 204
        },
        "outputId": "fa7b5a0f-006b-4f75-931a-76c535271c06"
      },
      "source": [
        "# View all DataFrame column names\n",
        "df.columns"
      ],
      "execution_count": 6,
      "outputs": [
        {
          "output_type": "execute_result",
          "data": {
            "text/plain": [
              "Index(['propertyCode', 'thumbnail', 'externalReference', 'numPhotos', 'price',\n",
              "       'propertyType', 'operation', 'size', 'exterior', 'rooms', 'bathrooms',\n",
              "       'address', 'province', 'municipality', 'district', 'country',\n",
              "       'latitude', 'longitude', 'showAddress', 'url', 'distance', 'hasVideo',\n",
              "       'status', 'newDevelopment', 'newDevelopmentFinished', 'priceByArea',\n",
              "       'hasPlan', 'has3DTour', 'has360', 'parkingSpace.hasParkingSpace',\n",
              "       'parkingSpace.isParkingSpaceIncludedInPrice', 'detailedType.typology',\n",
              "       'detailedType.subTypology', 'suggestedTexts.subtitle',\n",
              "       'suggestedTexts.title', 'neighborhood', 'floor', 'hasLift',\n",
              "       'parkingSpace.parkingSpacePrice', 'topNewDevelopment'],\n",
              "      dtype='object')"
            ]
          },
          "metadata": {
            "tags": []
          },
          "execution_count": 6
        }
      ]
    },
    {
      "cell_type": "code",
      "metadata": {
        "id": "xOt_QIUeUmTo",
        "colab_type": "code",
        "colab": {
          "base_uri": "https://localhost:8080/",
          "height": 714
        },
        "outputId": "909bb60d-0203-43be-d94e-276b9a27c51a"
      },
      "source": [
        "# See Data Types\n",
        "df.dtypes"
      ],
      "execution_count": 7,
      "outputs": [
        {
          "output_type": "execute_result",
          "data": {
            "text/plain": [
              "propertyCode                                  object\n",
              "thumbnail                                     object\n",
              "externalReference                             object\n",
              "numPhotos                                     object\n",
              "price                                         object\n",
              "propertyType                                  object\n",
              "operation                                     object\n",
              "size                                          object\n",
              "exterior                                      object\n",
              "rooms                                         object\n",
              "bathrooms                                     object\n",
              "address                                       object\n",
              "province                                      object\n",
              "municipality                                  object\n",
              "district                                      object\n",
              "country                                       object\n",
              "latitude                                      object\n",
              "longitude                                     object\n",
              "showAddress                                   object\n",
              "url                                           object\n",
              "distance                                      object\n",
              "hasVideo                                      object\n",
              "status                                        object\n",
              "newDevelopment                                object\n",
              "newDevelopmentFinished                        object\n",
              "priceByArea                                   object\n",
              "hasPlan                                       object\n",
              "has3DTour                                     object\n",
              "has360                                        object\n",
              "parkingSpace.hasParkingSpace                  object\n",
              "parkingSpace.isParkingSpaceIncludedInPrice    object\n",
              "detailedType.typology                         object\n",
              "detailedType.subTypology                      object\n",
              "suggestedTexts.subtitle                       object\n",
              "suggestedTexts.title                          object\n",
              "neighborhood                                  object\n",
              "floor                                         object\n",
              "hasLift                                       object\n",
              "parkingSpace.parkingSpacePrice                object\n",
              "topNewDevelopment                             object\n",
              "dtype: object"
            ]
          },
          "metadata": {
            "tags": []
          },
          "execution_count": 7
        }
      ]
    },
    {
      "cell_type": "markdown",
      "metadata": {
        "id": "HOyT-AldUaMY",
        "colab_type": "text"
      },
      "source": [
        "## Cleaning and transformations"
      ]
    },
    {
      "cell_type": "code",
      "metadata": {
        "id": "VOrAooZtUY0n",
        "colab_type": "code",
        "colab": {}
      },
      "source": [
        "# STRINGS\n",
        "for column in df:\n",
        "    # Convert to string\n",
        "    df[column] = df[column].astype(str)\n",
        "    # Remove unnecessary characters\n",
        "    df[column] = df[column].str.lstrip(\"['\")\n",
        "    df[column] = df[column].str.rstrip(\"]'\")\n",
        "    # Replace nans to NaNs (None)\n",
        "    df[column] = df[column].replace(to_replace='nan', value=None)\n",
        "\n",
        "# INTEGERS\n",
        "for column in df[['propertyCode', 'numPhotos', 'price', 'priceByArea', 'rooms', 'bathrooms', 'distance', 'size', 'parkingSpace.parkingSpacePrice']]:\n",
        "    # Convert to integers\n",
        "    df[column] = pd.to_numeric(df[column], errors='coerce')\n",
        "    \n",
        "# TRUE/FALSE\n",
        "for column in df[['exterior', 'showAddress', 'hasPlan', 'has3DTour', 'has360', 'hasVideo', 'hasLift', 'newDevelopment', 'parkingSpace.hasParkingSpace', 'parkingSpace.isParkingSpaceIncludedInPrice', 'newDevelopmentFinished', 'topNewDevelopment']]:\n",
        "    # Capitalize TRUE and FALSE\n",
        "    df[column] = df[column].str.upper()\n",
        "    # Replace NaNs to FALSE\n",
        "    df[column] = df[column].replace(to_replace='NAN', value='FALSE')\n",
        "    # Convert TRUE (1) and FALSE (0) to integers\n",
        "    (df[column] == 'TRUE').astype(int)\n",
        "\n",
        "# Categorical variables (Label Encoding) ?\n",
        "#for column in df[['status']]:\n",
        "    #df['column'] = df['column'].astype('category')\n",
        "\n",
        "# Drop unnecessary columns\n",
        "df.drop(['thumbnail', 'showAddress', 'numPhotos', 'url', 'hasPlan', 'has3DTour', 'has360', 'hasVideo', 'externalReference', 'province', 'operation', 'country', 'detailedType.typology', 'suggestedTexts.subtitle', 'suggestedTexts.title', 'detailedType.subTypology'], axis=1, inplace=True)\n",
        "\n",
        "# WHAT TO DO WITH THOSE ?\n",
        "#df['neighborhood']\n",
        "#df['municipality']\n",
        "#df['district']\n",
        "#df['address']"
      ],
      "execution_count": 8,
      "outputs": []
    },
    {
      "cell_type": "code",
      "metadata": {
        "id": "D6bviWSvlgrQ",
        "colab_type": "code",
        "colab": {
          "base_uri": "https://localhost:8080/",
          "height": 442
        },
        "outputId": "60ec43ed-ced6-46f8-ce72-7d4f3fba46f0"
      },
      "source": [
        "# See Data Types\n",
        "df.dtypes"
      ],
      "execution_count": 9,
      "outputs": [
        {
          "output_type": "execute_result",
          "data": {
            "text/plain": [
              "propertyCode                                    int64\n",
              "price                                           int64\n",
              "propertyType                                   object\n",
              "size                                          float64\n",
              "exterior                                       object\n",
              "rooms                                           int64\n",
              "bathrooms                                       int64\n",
              "address                                        object\n",
              "municipality                                   object\n",
              "district                                       object\n",
              "latitude                                       object\n",
              "longitude                                      object\n",
              "distance                                        int64\n",
              "status                                         object\n",
              "newDevelopment                                 object\n",
              "newDevelopmentFinished                         object\n",
              "priceByArea                                     int64\n",
              "parkingSpace.hasParkingSpace                   object\n",
              "parkingSpace.isParkingSpaceIncludedInPrice     object\n",
              "neighborhood                                   object\n",
              "floor                                          object\n",
              "hasLift                                        object\n",
              "parkingSpace.parkingSpacePrice                float64\n",
              "topNewDevelopment                              object\n",
              "dtype: object"
            ]
          },
          "metadata": {
            "tags": []
          },
          "execution_count": 9
        }
      ]
    },
    {
      "cell_type": "markdown",
      "metadata": {
        "id": "9pWaEbaFUeFu",
        "colab_type": "text"
      },
      "source": [
        "## Clean DataFrame"
      ]
    },
    {
      "cell_type": "code",
      "metadata": {
        "id": "p4Wqhfv7Ufml",
        "colab_type": "code",
        "colab": {
          "base_uri": "https://localhost:8080/",
          "height": 377
        },
        "outputId": "93b039e8-5d4d-491c-de87-fe7640e91ce8"
      },
      "source": [
        "# Preview data\n",
        "df.head()"
      ],
      "execution_count": 10,
      "outputs": [
        {
          "output_type": "execute_result",
          "data": {
            "text/html": [
              "<div>\n",
              "<style scoped>\n",
              "    .dataframe tbody tr th:only-of-type {\n",
              "        vertical-align: middle;\n",
              "    }\n",
              "\n",
              "    .dataframe tbody tr th {\n",
              "        vertical-align: top;\n",
              "    }\n",
              "\n",
              "    .dataframe thead th {\n",
              "        text-align: right;\n",
              "    }\n",
              "</style>\n",
              "<table border=\"1\" class=\"dataframe\">\n",
              "  <thead>\n",
              "    <tr style=\"text-align: right;\">\n",
              "      <th></th>\n",
              "      <th>propertyCode</th>\n",
              "      <th>price</th>\n",
              "      <th>propertyType</th>\n",
              "      <th>size</th>\n",
              "      <th>exterior</th>\n",
              "      <th>rooms</th>\n",
              "      <th>bathrooms</th>\n",
              "      <th>address</th>\n",
              "      <th>municipality</th>\n",
              "      <th>district</th>\n",
              "      <th>latitude</th>\n",
              "      <th>longitude</th>\n",
              "      <th>distance</th>\n",
              "      <th>status</th>\n",
              "      <th>newDevelopment</th>\n",
              "      <th>newDevelopmentFinished</th>\n",
              "      <th>priceByArea</th>\n",
              "      <th>parkingSpace.hasParkingSpace</th>\n",
              "      <th>parkingSpace.isParkingSpaceIncludedInPrice</th>\n",
              "      <th>neighborhood</th>\n",
              "      <th>floor</th>\n",
              "      <th>hasLift</th>\n",
              "      <th>parkingSpace.parkingSpacePrice</th>\n",
              "      <th>topNewDevelopment</th>\n",
              "    </tr>\n",
              "  </thead>\n",
              "  <tbody>\n",
              "    <tr>\n",
              "      <th>0</th>\n",
              "      <td>86350566</td>\n",
              "      <td>612900</td>\n",
              "      <td>chalet</td>\n",
              "      <td>334.0</td>\n",
              "      <td>FALSE</td>\n",
              "      <td>4</td>\n",
              "      <td>3</td>\n",
              "      <td>Calle Gonzalo Jiménez de Quesada, 1</td>\n",
              "      <td>Boadilla del Monte</td>\n",
              "      <td>Sector B</td>\n",
              "      <td>40.4136</td>\n",
              "      <td>-3.9162</td>\n",
              "      <td>18029</td>\n",
              "      <td>newdevelopment</td>\n",
              "      <td>TRUE</td>\n",
              "      <td>FALSE</td>\n",
              "      <td>1835</td>\n",
              "      <td>TRUE</td>\n",
              "      <td>TRUE</td>\n",
              "      <td>nan</td>\n",
              "      <td>nan</td>\n",
              "      <td>FALSE</td>\n",
              "      <td>NaN</td>\n",
              "      <td>FALSE</td>\n",
              "    </tr>\n",
              "    <tr>\n",
              "      <th>1</th>\n",
              "      <td>88820218</td>\n",
              "      <td>1250000</td>\n",
              "      <td>chalet</td>\n",
              "      <td>396.0</td>\n",
              "      <td>FALSE</td>\n",
              "      <td>5</td>\n",
              "      <td>4</td>\n",
              "      <td>barrio Monteclaro</td>\n",
              "      <td>Pozuelo de Alarcón</td>\n",
              "      <td>Urbanizaciones</td>\n",
              "      <td>40.4415</td>\n",
              "      <td>-3.8361</td>\n",
              "      <td>11572</td>\n",
              "      <td>good</td>\n",
              "      <td>FALSE</td>\n",
              "      <td>FALSE</td>\n",
              "      <td>3157</td>\n",
              "      <td>TRUE</td>\n",
              "      <td>TRUE</td>\n",
              "      <td>Monteclaro</td>\n",
              "      <td>nan</td>\n",
              "      <td>FALSE</td>\n",
              "      <td>NaN</td>\n",
              "      <td>FALSE</td>\n",
              "    </tr>\n",
              "    <tr>\n",
              "      <th>2</th>\n",
              "      <td>88536347</td>\n",
              "      <td>289000</td>\n",
              "      <td>flat</td>\n",
              "      <td>44.0</td>\n",
              "      <td>FALSE</td>\n",
              "      <td>1</td>\n",
              "      <td>1</td>\n",
              "      <td>Calle de Pelayo, 26</td>\n",
              "      <td>Madrid</td>\n",
              "      <td>Centro</td>\n",
              "      <td>40.4228</td>\n",
              "      <td>-3.6984</td>\n",
              "      <td>789</td>\n",
              "      <td>good</td>\n",
              "      <td>FALSE</td>\n",
              "      <td>FALSE</td>\n",
              "      <td>6568</td>\n",
              "      <td>TRUE</td>\n",
              "      <td>TRUE</td>\n",
              "      <td>Chueca-Justicia</td>\n",
              "      <td>3</td>\n",
              "      <td>FALSE</td>\n",
              "      <td>NaN</td>\n",
              "      <td>FALSE</td>\n",
              "    </tr>\n",
              "    <tr>\n",
              "      <th>3</th>\n",
              "      <td>88744592</td>\n",
              "      <td>2900000</td>\n",
              "      <td>chalet</td>\n",
              "      <td>800.0</td>\n",
              "      <td>FALSE</td>\n",
              "      <td>8</td>\n",
              "      <td>7</td>\n",
              "      <td>La Moraleja</td>\n",
              "      <td>La Moraleja</td>\n",
              "      <td>La Moraleja</td>\n",
              "      <td>40.5121</td>\n",
              "      <td>-3.6235</td>\n",
              "      <td>12572</td>\n",
              "      <td>good</td>\n",
              "      <td>FALSE</td>\n",
              "      <td>FALSE</td>\n",
              "      <td>3625</td>\n",
              "      <td>TRUE</td>\n",
              "      <td>TRUE</td>\n",
              "      <td>Chueca-Justicia</td>\n",
              "      <td>3</td>\n",
              "      <td>FALSE</td>\n",
              "      <td>NaN</td>\n",
              "      <td>FALSE</td>\n",
              "    </tr>\n",
              "    <tr>\n",
              "      <th>4</th>\n",
              "      <td>87535127</td>\n",
              "      <td>430000</td>\n",
              "      <td>flat</td>\n",
              "      <td>93.0</td>\n",
              "      <td>TRUE</td>\n",
              "      <td>1</td>\n",
              "      <td>2</td>\n",
              "      <td>Paseo del Prado, 14</td>\n",
              "      <td>Madrid</td>\n",
              "      <td>Centro</td>\n",
              "      <td>40.4142</td>\n",
              "      <td>-3.6944</td>\n",
              "      <td>795</td>\n",
              "      <td>good</td>\n",
              "      <td>FALSE</td>\n",
              "      <td>FALSE</td>\n",
              "      <td>4624</td>\n",
              "      <td>TRUE</td>\n",
              "      <td>TRUE</td>\n",
              "      <td>Huertas-Cortes</td>\n",
              "      <td>4</td>\n",
              "      <td>TRUE</td>\n",
              "      <td>NaN</td>\n",
              "      <td>FALSE</td>\n",
              "    </tr>\n",
              "  </tbody>\n",
              "</table>\n",
              "</div>"
            ],
            "text/plain": [
              "   propertyCode    price  ... parkingSpace.parkingSpacePrice  topNewDevelopment\n",
              "0      86350566   612900  ...                            NaN              FALSE\n",
              "1      88820218  1250000  ...                            NaN              FALSE\n",
              "2      88536347   289000  ...                            NaN              FALSE\n",
              "3      88744592  2900000  ...                            NaN              FALSE\n",
              "4      87535127   430000  ...                            NaN              FALSE\n",
              "\n",
              "[5 rows x 24 columns]"
            ]
          },
          "metadata": {
            "tags": []
          },
          "execution_count": 10
        }
      ]
    },
    {
      "cell_type": "code",
      "metadata": {
        "id": "2tFByIcVUgXh",
        "colab_type": "code",
        "colab": {
          "base_uri": "https://localhost:8080/",
          "height": 34
        },
        "outputId": "ef48ad29-c044-4957-b62b-e01e2ed2abac"
      },
      "source": [
        "# Total amount of unique Property Codes\n",
        "total = len(df.index)\n",
        "uniques = len(df['propertyCode'].unique())\n",
        "\n",
        "print('There are {} unique properties out of {}.'.format(uniques, total))"
      ],
      "execution_count": 11,
      "outputs": [
        {
          "output_type": "stream",
          "text": [
            "There are 6572 unique properties out of 16500.\n"
          ],
          "name": "stdout"
        }
      ]
    },
    {
      "cell_type": "code",
      "metadata": {
        "id": "jTuHLxNKohID",
        "colab_type": "code",
        "colab": {
          "base_uri": "https://localhost:8080/",
          "height": 34
        },
        "outputId": "e301aed4-ee85-46ae-8eb0-32f45fef277d"
      },
      "source": [
        "# Total number of duplicates\n",
        "df.duplicated(subset = 'propertyCode', keep = 'first').sum()"
      ],
      "execution_count": 12,
      "outputs": [
        {
          "output_type": "execute_result",
          "data": {
            "text/plain": [
              "9928"
            ]
          },
          "metadata": {
            "tags": []
          },
          "execution_count": 12
        }
      ]
    },
    {
      "cell_type": "markdown",
      "metadata": {
        "id": "NTeienHApJN4",
        "colab_type": "text"
      },
      "source": [
        "What is the difference between UNIQUE and DUPLICATES?"
      ]
    },
    {
      "cell_type": "code",
      "metadata": {
        "id": "rnJ4SPI9S_lu",
        "colab_type": "code",
        "colab": {}
      },
      "source": [
        "# Dropping ALL duplicte values\n",
        "df.drop_duplicates(subset ='propertyCode', \n",
        "                     keep = 'first', inplace = True)"
      ],
      "execution_count": 13,
      "outputs": []
    },
    {
      "cell_type": "code",
      "metadata": {
        "id": "jLEPDY11TkZt",
        "colab_type": "code",
        "colab": {
          "base_uri": "https://localhost:8080/",
          "height": 377
        },
        "outputId": "05d182e8-6277-401a-de12-025e5aafef2f"
      },
      "source": [
        "# Preview unique data\n",
        "df.head()"
      ],
      "execution_count": 14,
      "outputs": [
        {
          "output_type": "execute_result",
          "data": {
            "text/html": [
              "<div>\n",
              "<style scoped>\n",
              "    .dataframe tbody tr th:only-of-type {\n",
              "        vertical-align: middle;\n",
              "    }\n",
              "\n",
              "    .dataframe tbody tr th {\n",
              "        vertical-align: top;\n",
              "    }\n",
              "\n",
              "    .dataframe thead th {\n",
              "        text-align: right;\n",
              "    }\n",
              "</style>\n",
              "<table border=\"1\" class=\"dataframe\">\n",
              "  <thead>\n",
              "    <tr style=\"text-align: right;\">\n",
              "      <th></th>\n",
              "      <th>propertyCode</th>\n",
              "      <th>price</th>\n",
              "      <th>propertyType</th>\n",
              "      <th>size</th>\n",
              "      <th>exterior</th>\n",
              "      <th>rooms</th>\n",
              "      <th>bathrooms</th>\n",
              "      <th>address</th>\n",
              "      <th>municipality</th>\n",
              "      <th>district</th>\n",
              "      <th>latitude</th>\n",
              "      <th>longitude</th>\n",
              "      <th>distance</th>\n",
              "      <th>status</th>\n",
              "      <th>newDevelopment</th>\n",
              "      <th>newDevelopmentFinished</th>\n",
              "      <th>priceByArea</th>\n",
              "      <th>parkingSpace.hasParkingSpace</th>\n",
              "      <th>parkingSpace.isParkingSpaceIncludedInPrice</th>\n",
              "      <th>neighborhood</th>\n",
              "      <th>floor</th>\n",
              "      <th>hasLift</th>\n",
              "      <th>parkingSpace.parkingSpacePrice</th>\n",
              "      <th>topNewDevelopment</th>\n",
              "    </tr>\n",
              "  </thead>\n",
              "  <tbody>\n",
              "    <tr>\n",
              "      <th>0</th>\n",
              "      <td>86350566</td>\n",
              "      <td>612900</td>\n",
              "      <td>chalet</td>\n",
              "      <td>334.0</td>\n",
              "      <td>FALSE</td>\n",
              "      <td>4</td>\n",
              "      <td>3</td>\n",
              "      <td>Calle Gonzalo Jiménez de Quesada, 1</td>\n",
              "      <td>Boadilla del Monte</td>\n",
              "      <td>Sector B</td>\n",
              "      <td>40.4136</td>\n",
              "      <td>-3.9162</td>\n",
              "      <td>18029</td>\n",
              "      <td>newdevelopment</td>\n",
              "      <td>TRUE</td>\n",
              "      <td>FALSE</td>\n",
              "      <td>1835</td>\n",
              "      <td>TRUE</td>\n",
              "      <td>TRUE</td>\n",
              "      <td>nan</td>\n",
              "      <td>nan</td>\n",
              "      <td>FALSE</td>\n",
              "      <td>NaN</td>\n",
              "      <td>FALSE</td>\n",
              "    </tr>\n",
              "    <tr>\n",
              "      <th>1</th>\n",
              "      <td>88820218</td>\n",
              "      <td>1250000</td>\n",
              "      <td>chalet</td>\n",
              "      <td>396.0</td>\n",
              "      <td>FALSE</td>\n",
              "      <td>5</td>\n",
              "      <td>4</td>\n",
              "      <td>barrio Monteclaro</td>\n",
              "      <td>Pozuelo de Alarcón</td>\n",
              "      <td>Urbanizaciones</td>\n",
              "      <td>40.4415</td>\n",
              "      <td>-3.8361</td>\n",
              "      <td>11572</td>\n",
              "      <td>good</td>\n",
              "      <td>FALSE</td>\n",
              "      <td>FALSE</td>\n",
              "      <td>3157</td>\n",
              "      <td>TRUE</td>\n",
              "      <td>TRUE</td>\n",
              "      <td>Monteclaro</td>\n",
              "      <td>nan</td>\n",
              "      <td>FALSE</td>\n",
              "      <td>NaN</td>\n",
              "      <td>FALSE</td>\n",
              "    </tr>\n",
              "    <tr>\n",
              "      <th>2</th>\n",
              "      <td>88536347</td>\n",
              "      <td>289000</td>\n",
              "      <td>flat</td>\n",
              "      <td>44.0</td>\n",
              "      <td>FALSE</td>\n",
              "      <td>1</td>\n",
              "      <td>1</td>\n",
              "      <td>Calle de Pelayo, 26</td>\n",
              "      <td>Madrid</td>\n",
              "      <td>Centro</td>\n",
              "      <td>40.4228</td>\n",
              "      <td>-3.6984</td>\n",
              "      <td>789</td>\n",
              "      <td>good</td>\n",
              "      <td>FALSE</td>\n",
              "      <td>FALSE</td>\n",
              "      <td>6568</td>\n",
              "      <td>TRUE</td>\n",
              "      <td>TRUE</td>\n",
              "      <td>Chueca-Justicia</td>\n",
              "      <td>3</td>\n",
              "      <td>FALSE</td>\n",
              "      <td>NaN</td>\n",
              "      <td>FALSE</td>\n",
              "    </tr>\n",
              "    <tr>\n",
              "      <th>3</th>\n",
              "      <td>88744592</td>\n",
              "      <td>2900000</td>\n",
              "      <td>chalet</td>\n",
              "      <td>800.0</td>\n",
              "      <td>FALSE</td>\n",
              "      <td>8</td>\n",
              "      <td>7</td>\n",
              "      <td>La Moraleja</td>\n",
              "      <td>La Moraleja</td>\n",
              "      <td>La Moraleja</td>\n",
              "      <td>40.5121</td>\n",
              "      <td>-3.6235</td>\n",
              "      <td>12572</td>\n",
              "      <td>good</td>\n",
              "      <td>FALSE</td>\n",
              "      <td>FALSE</td>\n",
              "      <td>3625</td>\n",
              "      <td>TRUE</td>\n",
              "      <td>TRUE</td>\n",
              "      <td>Chueca-Justicia</td>\n",
              "      <td>3</td>\n",
              "      <td>FALSE</td>\n",
              "      <td>NaN</td>\n",
              "      <td>FALSE</td>\n",
              "    </tr>\n",
              "    <tr>\n",
              "      <th>4</th>\n",
              "      <td>87535127</td>\n",
              "      <td>430000</td>\n",
              "      <td>flat</td>\n",
              "      <td>93.0</td>\n",
              "      <td>TRUE</td>\n",
              "      <td>1</td>\n",
              "      <td>2</td>\n",
              "      <td>Paseo del Prado, 14</td>\n",
              "      <td>Madrid</td>\n",
              "      <td>Centro</td>\n",
              "      <td>40.4142</td>\n",
              "      <td>-3.6944</td>\n",
              "      <td>795</td>\n",
              "      <td>good</td>\n",
              "      <td>FALSE</td>\n",
              "      <td>FALSE</td>\n",
              "      <td>4624</td>\n",
              "      <td>TRUE</td>\n",
              "      <td>TRUE</td>\n",
              "      <td>Huertas-Cortes</td>\n",
              "      <td>4</td>\n",
              "      <td>TRUE</td>\n",
              "      <td>NaN</td>\n",
              "      <td>FALSE</td>\n",
              "    </tr>\n",
              "  </tbody>\n",
              "</table>\n",
              "</div>"
            ],
            "text/plain": [
              "   propertyCode    price  ... parkingSpace.parkingSpacePrice  topNewDevelopment\n",
              "0      86350566   612900  ...                            NaN              FALSE\n",
              "1      88820218  1250000  ...                            NaN              FALSE\n",
              "2      88536347   289000  ...                            NaN              FALSE\n",
              "3      88744592  2900000  ...                            NaN              FALSE\n",
              "4      87535127   430000  ...                            NaN              FALSE\n",
              "\n",
              "[5 rows x 24 columns]"
            ]
          },
          "metadata": {
            "tags": []
          },
          "execution_count": 14
        }
      ]
    },
    {
      "cell_type": "code",
      "metadata": {
        "id": "ou4e7FeJTmuE",
        "colab_type": "code",
        "colab": {
          "base_uri": "https://localhost:8080/",
          "height": 34
        },
        "outputId": "daeb9f89-c2db-4dcd-ff3a-ff02209c7fb6"
      },
      "source": [
        "# Total amount of unique Property Codes\n",
        "total = len(df.index)\n",
        "\n",
        "print('There are {} total unique records.'.format(total))"
      ],
      "execution_count": 15,
      "outputs": [
        {
          "output_type": "stream",
          "text": [
            "There are 6572 total unique records.\n"
          ],
          "name": "stdout"
        }
      ]
    },
    {
      "cell_type": "code",
      "metadata": {
        "id": "g8mzm2DT0IH1",
        "colab_type": "code",
        "colab": {}
      },
      "source": [
        "######################################################\n",
        "# Save cleaned DataFrame without Duplicates as a CSV #\n",
        "#df.to_csv('ALL-JSON-FILES.csv')                      #\n",
        "######################################################"
      ],
      "execution_count": 22,
      "outputs": []
    },
    {
      "cell_type": "markdown",
      "metadata": {
        "id": "50G8QVpG2i8S",
        "colab_type": "text"
      },
      "source": [
        "## Analysis"
      ]
    },
    {
      "cell_type": "code",
      "metadata": {
        "id": "ndWwn-bL2gux",
        "colab_type": "code",
        "colab": {
          "base_uri": "https://localhost:8080/",
          "height": 408
        },
        "outputId": "45909132-3e42-47f8-ffb2-b83ee41cc81d"
      },
      "source": [
        "# Value counts of column\n",
        "df['floor'].value_counts()"
      ],
      "execution_count": 17,
      "outputs": [
        {
          "output_type": "execute_result",
          "data": {
            "text/plain": [
              "1      1414\n",
              "2      1172\n",
              "bj     1071\n",
              "3      1021\n",
              "4       814\n",
              "5       380\n",
              "6       220\n",
              "7       151\n",
              "en       93\n",
              "8        62\n",
              "9        42\n",
              "ss       35\n",
              "10       22\n",
              "12       16\n",
              "11       15\n",
              "14       14\n",
              "st       11\n",
              "-1       10\n",
              "15        3\n",
              "nan       2\n",
              "17        2\n",
              "13        2\n",
              "Name: floor, dtype: int64"
            ]
          },
          "metadata": {
            "tags": []
          },
          "execution_count": 17
        }
      ]
    },
    {
      "cell_type": "code",
      "metadata": {
        "id": "qWZQrCJRXZZD",
        "colab_type": "code",
        "colab": {
          "base_uri": "https://localhost:8080/",
          "height": 85
        },
        "outputId": "47b4a62f-a7f5-41dc-8d69-fc70297c0716"
      },
      "source": [
        "df['status'].value_counts()"
      ],
      "execution_count": 18,
      "outputs": [
        {
          "output_type": "execute_result",
          "data": {
            "text/plain": [
              "good              5298\n",
              "renew             1175\n",
              "newdevelopment      99\n",
              "Name: status, dtype: int64"
            ]
          },
          "metadata": {
            "tags": []
          },
          "execution_count": 18
        }
      ]
    },
    {
      "cell_type": "code",
      "metadata": {
        "id": "cOWlUeVUix64",
        "colab_type": "code",
        "colab": {
          "base_uri": "https://localhost:8080/",
          "height": 1000
        },
        "outputId": "c99c7656-7588-4b01-d9a3-89ddf7c0176b"
      },
      "source": [
        "dictionary = df['municipality'].value_counts().to_dict()\n",
        "dictionary"
      ],
      "execution_count": 19,
      "outputs": [
        {
          "output_type": "execute_result",
          "data": {
            "text/plain": [
              "{'Alcalá de Henares': 80,\n",
              " 'Alcobendas': 26,\n",
              " 'Alcorcón': 74,\n",
              " 'Algete': 11,\n",
              " 'Arganda': 32,\n",
              " 'Arroyomolinos': 28,\n",
              " 'Boadilla del Monte': 51,\n",
              " 'Brunete': 12,\n",
              " 'Camarma de Esteruelas': 1,\n",
              " 'Campo Real': 5,\n",
              " 'Casarrubuelos': 4,\n",
              " 'Chinchón': 1,\n",
              " 'Ciempozuelos': 24,\n",
              " 'Ciudalcampo': 15,\n",
              " 'Cobeña': 3,\n",
              " 'Colmenar Viejo': 25,\n",
              " 'Colmenarejo': 3,\n",
              " 'Coslada': 20,\n",
              " 'Cubas de la Sagra': 10,\n",
              " 'Daganzo de Arriba': 5,\n",
              " 'Fuenlabrada': 125,\n",
              " 'Fuente del Fresno': 2,\n",
              " 'Fuente el Saz de Jarama': 7,\n",
              " 'Galapagar': 8,\n",
              " 'Getafe': 99,\n",
              " 'Griñón': 10,\n",
              " 'Hoyo de Manzanares': 6,\n",
              " 'Humanes de Madrid': 36,\n",
              " 'La Moraleja': 107,\n",
              " 'Las Rozas de Madrid': 88,\n",
              " 'Leganés': 143,\n",
              " 'Loeches': 11,\n",
              " 'Madrid': 4584,\n",
              " 'Majadahonda': 51,\n",
              " 'Mejorada del Campo': 28,\n",
              " 'Moraleja de Enmedio': 4,\n",
              " 'Morata de Tajuña': 1,\n",
              " 'Móstoles': 101,\n",
              " 'Navalcarnero': 26,\n",
              " 'Paracuellos de Jarama': 8,\n",
              " 'Parla': 90,\n",
              " 'Pinto': 22,\n",
              " 'Pozuelo de Alarcón': 137,\n",
              " 'Quijorna': 8,\n",
              " 'Rivas-Vaciamadrid': 27,\n",
              " 'San Agustin de Guadalix': 10,\n",
              " 'San Fernando de Henares': 8,\n",
              " 'San Martín de la Vega': 26,\n",
              " 'San Sebastián de los Reyes': 38,\n",
              " 'Santo Domingo': 5,\n",
              " 'Serranillos del Valle': 2,\n",
              " 'Sevilla la Nueva': 3,\n",
              " 'Torrejón de Ardoz': 77,\n",
              " 'Torrejón de Velasco': 3,\n",
              " 'Torrejón de la Calzada': 10,\n",
              " 'Torrelodones': 19,\n",
              " 'Torres de la Alameda': 6,\n",
              " 'Tres Cantos': 9,\n",
              " 'Ugena': 2,\n",
              " 'Valdelagua': 2,\n",
              " 'Valdemorillo': 12,\n",
              " 'Valdemoro': 51,\n",
              " 'Velilla de San Antonio': 24,\n",
              " 'Villalbilla': 12,\n",
              " 'Villanueva de la Cañada': 33,\n",
              " 'Villanueva del Pardillo': 30,\n",
              " 'Villaviciosa de Odón': 31}"
            ]
          },
          "metadata": {
            "tags": []
          },
          "execution_count": 19
        }
      ]
    },
    {
      "cell_type": "code",
      "metadata": {
        "id": "ZsrbBVPWgStB",
        "colab_type": "code",
        "colab": {
          "base_uri": "https://localhost:8080/",
          "height": 1000
        },
        "outputId": "c0a9bf3d-09d6-4e7f-c6d2-6e3d1c679f08"
      },
      "source": [
        "dictionary = df['neighborhood'].value_counts().to_dict()\n",
        "dictionary"
      ],
      "execution_count": 20,
      "outputs": [
        {
          "output_type": "execute_result",
          "data": {
            "text/plain": [
              "{'12 de Octubre-Orcasur': 15,\n",
              " 'Abrantes': 58,\n",
              " 'Acacias': 46,\n",
              " 'Adelfas': 16,\n",
              " 'Alameda de Osuna': 5,\n",
              " 'Almagro': 74,\n",
              " 'Almendrales': 39,\n",
              " 'Alto de la Jabonería': 1,\n",
              " 'Aluche': 72,\n",
              " 'Ambroz': 30,\n",
              " 'Amposta': 9,\n",
              " 'Apóstol Santiago': 16,\n",
              " 'Arapiles': 42,\n",
              " 'Aravaca': 51,\n",
              " 'Arcos': 49,\n",
              " 'Argüelles': 46,\n",
              " 'Arroyo del Fresno': 1,\n",
              " 'Atalaya': 57,\n",
              " 'Batallas': 18,\n",
              " 'Bellas Vistas': 70,\n",
              " 'Bernabéu-Hispanoamérica': 45,\n",
              " 'Berruguete': 66,\n",
              " 'Buena Vista': 61,\n",
              " 'Butarque': 27,\n",
              " 'Campamento': 18,\n",
              " 'Campo de Tiro': 1,\n",
              " 'Campo de las Naciones-Corralejos': 2,\n",
              " 'Campodón - Ventorro del Cano': 3,\n",
              " 'Canillas': 48,\n",
              " 'Canillejas': 17,\n",
              " 'Casa de Campo': 12,\n",
              " 'Casco Antiguo': 86,\n",
              " 'Casco Histórico de Barajas': 15,\n",
              " 'Casco Histórico de Vallecas': 31,\n",
              " 'Casco Histórico de Vicálvaro': 11,\n",
              " 'Castellana': 61,\n",
              " 'Castilla': 28,\n",
              " 'Chopera': 67,\n",
              " 'Chueca-Justicia': 108,\n",
              " 'Ciudad Jardín': 26,\n",
              " 'Ciudad Universitaria': 55,\n",
              " 'Colina': 6,\n",
              " 'Comillas': 85,\n",
              " 'Concepción': 25,\n",
              " 'Conde Orgaz-Piovera': 50,\n",
              " 'Costillares': 25,\n",
              " 'Cuatro Caminos': 71,\n",
              " 'Cuatro Vientos': 1,\n",
              " 'Cuzco-Castillejos': 56,\n",
              " 'Delicias': 51,\n",
              " 'Descubridores-Escritores': 3,\n",
              " 'El Burgo': 23,\n",
              " 'El Cantizal': 11,\n",
              " 'El Carrascal': 9,\n",
              " 'El Cañaveral - Los Berrocales': 2,\n",
              " 'El Caño- Maracaibo': 5,\n",
              " 'El Monte': 9,\n",
              " 'El Peñalar - Arroyo de Trofas - Montealegre': 5,\n",
              " 'El Pinar- Punta Galea': 4,\n",
              " 'El Plantío': 31,\n",
              " 'El Viso': 57,\n",
              " 'Ensanche de Vallecas - La Gavia': 30,\n",
              " 'Entrevías': 28,\n",
              " 'Estrella': 15,\n",
              " 'Europolis': 8,\n",
              " 'Flores': 8,\n",
              " 'Fontarrón': 24,\n",
              " 'Fuente del Berro': 45,\n",
              " 'Fuentelarreina': 6,\n",
              " 'Gaztambide': 42,\n",
              " 'Goya': 132,\n",
              " 'Guindalera': 100,\n",
              " 'Hellín': 26,\n",
              " 'Huertas-Cortes': 68,\n",
              " 'Ibiza': 63,\n",
              " 'Imperial': 52,\n",
              " 'Jerónimos': 25,\n",
              " 'La Cañadilla': 1,\n",
              " 'La Chopera': 2,\n",
              " 'La Finca': 30,\n",
              " 'La Fortuna': 30,\n",
              " 'La Paz': 18,\n",
              " 'Las Dehesillas-Vereda de los Estudiantes': 4,\n",
              " 'Las Matas- Peñascales': 15,\n",
              " 'Las Tablas': 12,\n",
              " 'Lavapiés-Embajadores': 224,\n",
              " 'Leganés norte': 4,\n",
              " 'Legazpi': 24,\n",
              " 'Lista': 82,\n",
              " 'Los Cármenes': 20,\n",
              " 'Los Rosales': 58,\n",
              " 'Los Ángeles': 65,\n",
              " 'Lucero': 104,\n",
              " 'Malasaña-Universidad': 177,\n",
              " 'Marazuela- El Torreón': 9,\n",
              " 'Marroquina': 11,\n",
              " 'Media Legua': 27,\n",
              " 'Mirasierra': 19,\n",
              " 'Molino de la Hoz': 1,\n",
              " 'Monte Rozas': 2,\n",
              " 'Montecarmelo': 19,\n",
              " 'Montecillo - Pinar de las Rozas': 12,\n",
              " 'Monteclaro': 7,\n",
              " 'Moscardó': 50,\n",
              " 'Niño Jesús': 18,\n",
              " 'Nueva España': 33,\n",
              " 'Nuevos Ministerios-Ríos Rosas': 53,\n",
              " 'Numancia': 125,\n",
              " 'Opañel': 57,\n",
              " 'Orcasitas': 13,\n",
              " 'Pacífico': 31,\n",
              " 'Palacio': 77,\n",
              " 'Palomas': 21,\n",
              " 'Palomeras Bajas': 34,\n",
              " 'Palomeras sureste': 50,\n",
              " 'Palos de Moguer': 55,\n",
              " 'Parque Empresarial': 3,\n",
              " 'Parque Lisboa - La Paz': 17,\n",
              " 'Parque Mayor': 15,\n",
              " 'Parque Ondarreta - Urtinsa': 9,\n",
              " 'Parque oeste - Fuente Cisneros': 3,\n",
              " 'Pau de Carabanchel': 13,\n",
              " 'Pavones': 9,\n",
              " 'Peñagrande': 43,\n",
              " 'Pilar': 29,\n",
              " 'Pinar del Rey': 67,\n",
              " 'Portazgo': 30,\n",
              " 'Prado Largo': 13,\n",
              " 'Prado de Santo Domingo': 10,\n",
              " 'Prado de Somosaguas': 20,\n",
              " 'Pradolongo': 21,\n",
              " 'Prosperidad': 130,\n",
              " 'Pueblo Nuevo': 120,\n",
              " 'Puerta Bonita': 67,\n",
              " 'Puerta del Ángel': 123,\n",
              " 'Quintana': 63,\n",
              " 'Recoletos': 60,\n",
              " 'Rejas': 19,\n",
              " 'Rosas': 11,\n",
              " 'Salvador': 15,\n",
              " 'San Andrés': 76,\n",
              " 'San Cristóbal': 27,\n",
              " 'San Diego': 134,\n",
              " 'San Fermín': 14,\n",
              " 'San Isidro': 102,\n",
              " 'San Juan Bautista': 5,\n",
              " 'San Nicasio': 35,\n",
              " 'San Pascual': 18,\n",
              " 'Sanchinarro': 39,\n",
              " 'Santa Eugenia': 11,\n",
              " 'Santos': 17,\n",
              " 'Simancas': 78,\n",
              " 'Sol': 43,\n",
              " 'Solagua': 2,\n",
              " 'Somosaguas': 58,\n",
              " 'Timón': 9,\n",
              " 'Trafalgar': 72,\n",
              " 'Tres Olivos - Valverde': 24,\n",
              " 'Valdeacederas': 65,\n",
              " 'Valdebernardo - Valderribas': 9,\n",
              " 'Valdemarín': 19,\n",
              " 'Valderas - Los Castillos': 9,\n",
              " 'Valdezarza': 46,\n",
              " 'Vallehermoso': 22,\n",
              " 'Ventas': 93,\n",
              " 'Ventilla-Almenara': 15,\n",
              " 'Vinateros': 12,\n",
              " 'Virgen del Cortijo - Manoteras': 8,\n",
              " 'Vista Alegre': 114,\n",
              " 'Vírgenes': 1,\n",
              " 'Yucatán- Las Cornisas': 6,\n",
              " 'Zarzaquemada': 34,\n",
              " 'Zofío': 26,\n",
              " 'Zona Avenida Europa': 11,\n",
              " 'Zona Centro Joven': 9,\n",
              " 'Zona Estación': 38,\n",
              " 'Zona Pueblo': 23,\n",
              " 'Zona Renfe': 9,\n",
              " 'Zona norte': 7,\n",
              " 'nan': 1,\n",
              " 'Águilas': 23}"
            ]
          },
          "metadata": {
            "tags": []
          },
          "execution_count": 20
        }
      ]
    },
    {
      "cell_type": "code",
      "metadata": {
        "id": "aN0pVEHH3vW1",
        "colab_type": "code",
        "colab": {}
      },
      "source": [
        "# Replace specific values with something else\n",
        "#df['floor'] = df['floor'].replace(['-1', 'ss', 'bj'], 'bajo')\n",
        "#df['floor'] = df['floor'].replace(['1'], 'normal')\n",
        "#..."
      ],
      "execution_count": 21,
      "outputs": []
    },
    {
      "cell_type": "code",
      "metadata": {
        "id": "ZvrLXEZTrLKd",
        "colab_type": "code",
        "colab": {}
      },
      "source": [
        ""
      ],
      "execution_count": 21,
      "outputs": []
    }
  ]
}